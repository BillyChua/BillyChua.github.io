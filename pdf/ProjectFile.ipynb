{
 "cells": [
  {
   "cell_type": "code",
   "execution_count": 1,
   "metadata": {},
   "outputs": [],
   "source": [
    "import csv\n",
    "import numpy as np\n",
    "import pandas as pd\n",
    "import matplotlib.pyplot as plt\n",
    "import seaborn as sns\n",
    "from sklearn import datasets, linear_model\n",
    "from sklearn.metrics import mean_squared_error, r2_score\n",
    "from sklearn.metrics import confusion_matrix , classification_report, f1_score,\\\n",
    "                            accuracy_score, precision_score, recall_score, f1_score"
   ]
  },
  {
   "cell_type": "code",
   "execution_count": 2,
   "metadata": {
    "scrolled": true
   },
   "outputs": [
    {
     "data": {
      "text/html": [
       "<div>\n",
       "<style scoped>\n",
       "    .dataframe tbody tr th:only-of-type {\n",
       "        vertical-align: middle;\n",
       "    }\n",
       "\n",
       "    .dataframe tbody tr th {\n",
       "        vertical-align: top;\n",
       "    }\n",
       "\n",
       "    .dataframe thead th {\n",
       "        text-align: right;\n",
       "    }\n",
       "</style>\n",
       "<table border=\"1\" class=\"dataframe\">\n",
       "  <thead>\n",
       "    <tr style=\"text-align: right;\">\n",
       "      <th></th>\n",
       "      <th>school</th>\n",
       "      <th>sex</th>\n",
       "      <th>age</th>\n",
       "      <th>address</th>\n",
       "      <th>famsize</th>\n",
       "      <th>Pstatus</th>\n",
       "      <th>Medu</th>\n",
       "      <th>Fedu</th>\n",
       "      <th>Mjob</th>\n",
       "      <th>Fjob</th>\n",
       "      <th>...</th>\n",
       "      <th>famrel</th>\n",
       "      <th>freetime</th>\n",
       "      <th>goout</th>\n",
       "      <th>Dalc</th>\n",
       "      <th>Walc</th>\n",
       "      <th>health</th>\n",
       "      <th>absences</th>\n",
       "      <th>G1</th>\n",
       "      <th>G2</th>\n",
       "      <th>G3</th>\n",
       "    </tr>\n",
       "  </thead>\n",
       "  <tbody>\n",
       "    <tr>\n",
       "      <th>0</th>\n",
       "      <td>GP</td>\n",
       "      <td>F</td>\n",
       "      <td>18</td>\n",
       "      <td>U</td>\n",
       "      <td>GT3</td>\n",
       "      <td>A</td>\n",
       "      <td>4</td>\n",
       "      <td>4</td>\n",
       "      <td>at_home</td>\n",
       "      <td>teacher</td>\n",
       "      <td>...</td>\n",
       "      <td>4</td>\n",
       "      <td>3</td>\n",
       "      <td>4</td>\n",
       "      <td>1</td>\n",
       "      <td>1</td>\n",
       "      <td>3</td>\n",
       "      <td>6</td>\n",
       "      <td>5</td>\n",
       "      <td>6</td>\n",
       "      <td>6</td>\n",
       "    </tr>\n",
       "    <tr>\n",
       "      <th>1</th>\n",
       "      <td>GP</td>\n",
       "      <td>F</td>\n",
       "      <td>17</td>\n",
       "      <td>U</td>\n",
       "      <td>GT3</td>\n",
       "      <td>T</td>\n",
       "      <td>1</td>\n",
       "      <td>1</td>\n",
       "      <td>at_home</td>\n",
       "      <td>other</td>\n",
       "      <td>...</td>\n",
       "      <td>5</td>\n",
       "      <td>3</td>\n",
       "      <td>3</td>\n",
       "      <td>1</td>\n",
       "      <td>1</td>\n",
       "      <td>3</td>\n",
       "      <td>4</td>\n",
       "      <td>5</td>\n",
       "      <td>5</td>\n",
       "      <td>6</td>\n",
       "    </tr>\n",
       "    <tr>\n",
       "      <th>2</th>\n",
       "      <td>GP</td>\n",
       "      <td>F</td>\n",
       "      <td>15</td>\n",
       "      <td>U</td>\n",
       "      <td>LE3</td>\n",
       "      <td>T</td>\n",
       "      <td>1</td>\n",
       "      <td>1</td>\n",
       "      <td>at_home</td>\n",
       "      <td>other</td>\n",
       "      <td>...</td>\n",
       "      <td>4</td>\n",
       "      <td>3</td>\n",
       "      <td>2</td>\n",
       "      <td>2</td>\n",
       "      <td>3</td>\n",
       "      <td>3</td>\n",
       "      <td>10</td>\n",
       "      <td>7</td>\n",
       "      <td>8</td>\n",
       "      <td>10</td>\n",
       "    </tr>\n",
       "    <tr>\n",
       "      <th>3</th>\n",
       "      <td>GP</td>\n",
       "      <td>F</td>\n",
       "      <td>15</td>\n",
       "      <td>U</td>\n",
       "      <td>GT3</td>\n",
       "      <td>T</td>\n",
       "      <td>4</td>\n",
       "      <td>2</td>\n",
       "      <td>health</td>\n",
       "      <td>services</td>\n",
       "      <td>...</td>\n",
       "      <td>3</td>\n",
       "      <td>2</td>\n",
       "      <td>2</td>\n",
       "      <td>1</td>\n",
       "      <td>1</td>\n",
       "      <td>5</td>\n",
       "      <td>2</td>\n",
       "      <td>15</td>\n",
       "      <td>14</td>\n",
       "      <td>15</td>\n",
       "    </tr>\n",
       "    <tr>\n",
       "      <th>4</th>\n",
       "      <td>GP</td>\n",
       "      <td>F</td>\n",
       "      <td>16</td>\n",
       "      <td>U</td>\n",
       "      <td>GT3</td>\n",
       "      <td>T</td>\n",
       "      <td>3</td>\n",
       "      <td>3</td>\n",
       "      <td>other</td>\n",
       "      <td>other</td>\n",
       "      <td>...</td>\n",
       "      <td>4</td>\n",
       "      <td>3</td>\n",
       "      <td>2</td>\n",
       "      <td>1</td>\n",
       "      <td>2</td>\n",
       "      <td>5</td>\n",
       "      <td>4</td>\n",
       "      <td>6</td>\n",
       "      <td>10</td>\n",
       "      <td>10</td>\n",
       "    </tr>\n",
       "  </tbody>\n",
       "</table>\n",
       "<p>5 rows × 33 columns</p>\n",
       "</div>"
      ],
      "text/plain": [
       "  school sex  age address famsize Pstatus  Medu  Fedu     Mjob      Fjob  ...  \\\n",
       "0     GP   F   18       U     GT3       A     4     4  at_home   teacher  ...   \n",
       "1     GP   F   17       U     GT3       T     1     1  at_home     other  ...   \n",
       "2     GP   F   15       U     LE3       T     1     1  at_home     other  ...   \n",
       "3     GP   F   15       U     GT3       T     4     2   health  services  ...   \n",
       "4     GP   F   16       U     GT3       T     3     3    other     other  ...   \n",
       "\n",
       "  famrel freetime  goout  Dalc  Walc health absences  G1  G2  G3  \n",
       "0      4        3      4     1     1      3        6   5   6   6  \n",
       "1      5        3      3     1     1      3        4   5   5   6  \n",
       "2      4        3      2     2     3      3       10   7   8  10  \n",
       "3      3        2      2     1     1      5        2  15  14  15  \n",
       "4      4        3      2     1     2      5        4   6  10  10  \n",
       "\n",
       "[5 rows x 33 columns]"
      ]
     },
     "execution_count": 2,
     "metadata": {},
     "output_type": "execute_result"
    }
   ],
   "source": [
    "df = pd.read_csv('student-mat.csv')\n",
    "df.head()"
   ]
  },
  {
   "cell_type": "code",
   "execution_count": 3,
   "metadata": {
    "scrolled": false
   },
   "outputs": [
    {
     "name": "stdout",
     "output_type": "stream",
     "text": [
      "<class 'pandas.core.frame.DataFrame'>\n",
      "RangeIndex: 395 entries, 0 to 394\n",
      "Data columns (total 33 columns):\n",
      " #   Column      Non-Null Count  Dtype \n",
      "---  ------      --------------  ----- \n",
      " 0   school      395 non-null    object\n",
      " 1   sex         395 non-null    object\n",
      " 2   age         395 non-null    int64 \n",
      " 3   address     395 non-null    object\n",
      " 4   famsize     395 non-null    object\n",
      " 5   Pstatus     395 non-null    object\n",
      " 6   Medu        395 non-null    int64 \n",
      " 7   Fedu        395 non-null    int64 \n",
      " 8   Mjob        395 non-null    object\n",
      " 9   Fjob        395 non-null    object\n",
      " 10  reason      395 non-null    object\n",
      " 11  guardian    395 non-null    object\n",
      " 12  traveltime  395 non-null    int64 \n",
      " 13  studytime   395 non-null    int64 \n",
      " 14  failures    395 non-null    int64 \n",
      " 15  schoolsup   395 non-null    object\n",
      " 16  famsup      395 non-null    object\n",
      " 17  paid        395 non-null    object\n",
      " 18  activities  395 non-null    object\n",
      " 19  nursery     395 non-null    object\n",
      " 20  higher      395 non-null    object\n",
      " 21  internet    395 non-null    object\n",
      " 22  romantic    395 non-null    object\n",
      " 23  famrel      395 non-null    int64 \n",
      " 24  freetime    395 non-null    int64 \n",
      " 25  goout       395 non-null    int64 \n",
      " 26  Dalc        395 non-null    int64 \n",
      " 27  Walc        395 non-null    int64 \n",
      " 28  health      395 non-null    int64 \n",
      " 29  absences    395 non-null    int64 \n",
      " 30  G1          395 non-null    int64 \n",
      " 31  G2          395 non-null    int64 \n",
      " 32  G3          395 non-null    int64 \n",
      "dtypes: int64(16), object(17)\n",
      "memory usage: 102.0+ KB\n"
     ]
    }
   ],
   "source": [
    "df.info()"
   ]
  },
  {
   "cell_type": "code",
   "execution_count": 4,
   "metadata": {},
   "outputs": [
    {
     "data": {
      "text/plain": [
       "school        0\n",
       "sex           0\n",
       "age           0\n",
       "address       0\n",
       "famsize       0\n",
       "Pstatus       0\n",
       "Medu          0\n",
       "Fedu          0\n",
       "Mjob          0\n",
       "Fjob          0\n",
       "reason        0\n",
       "guardian      0\n",
       "traveltime    0\n",
       "studytime     0\n",
       "failures      0\n",
       "schoolsup     0\n",
       "famsup        0\n",
       "paid          0\n",
       "activities    0\n",
       "nursery       0\n",
       "higher        0\n",
       "internet      0\n",
       "romantic      0\n",
       "famrel        0\n",
       "freetime      0\n",
       "goout         0\n",
       "Dalc          0\n",
       "Walc          0\n",
       "health        0\n",
       "absences      0\n",
       "G1            0\n",
       "G2            0\n",
       "G3            0\n",
       "dtype: int64"
      ]
     },
     "execution_count": 4,
     "metadata": {},
     "output_type": "execute_result"
    }
   ],
   "source": [
    "df.isnull().sum()"
   ]
  },
  {
   "cell_type": "code",
   "execution_count": 5,
   "metadata": {},
   "outputs": [],
   "source": [
    "df['GScore'] = df[['G1','G2','G3']].mean(axis=1)"
   ]
  },
  {
   "cell_type": "code",
   "execution_count": 6,
   "metadata": {},
   "outputs": [
    {
     "data": {
      "text/html": [
       "<div>\n",
       "<style scoped>\n",
       "    .dataframe tbody tr th:only-of-type {\n",
       "        vertical-align: middle;\n",
       "    }\n",
       "\n",
       "    .dataframe tbody tr th {\n",
       "        vertical-align: top;\n",
       "    }\n",
       "\n",
       "    .dataframe thead th {\n",
       "        text-align: right;\n",
       "    }\n",
       "</style>\n",
       "<table border=\"1\" class=\"dataframe\">\n",
       "  <thead>\n",
       "    <tr style=\"text-align: right;\">\n",
       "      <th></th>\n",
       "      <th>age</th>\n",
       "      <th>Medu</th>\n",
       "      <th>Fedu</th>\n",
       "      <th>traveltime</th>\n",
       "      <th>studytime</th>\n",
       "      <th>failures</th>\n",
       "      <th>famrel</th>\n",
       "      <th>freetime</th>\n",
       "      <th>goout</th>\n",
       "      <th>Dalc</th>\n",
       "      <th>Walc</th>\n",
       "      <th>health</th>\n",
       "      <th>absences</th>\n",
       "      <th>G1</th>\n",
       "      <th>G2</th>\n",
       "      <th>G3</th>\n",
       "      <th>GScore</th>\n",
       "    </tr>\n",
       "  </thead>\n",
       "  <tbody>\n",
       "    <tr>\n",
       "      <th>count</th>\n",
       "      <td>395.000000</td>\n",
       "      <td>395.000000</td>\n",
       "      <td>395.000000</td>\n",
       "      <td>395.000000</td>\n",
       "      <td>395.000000</td>\n",
       "      <td>395.000000</td>\n",
       "      <td>395.000000</td>\n",
       "      <td>395.000000</td>\n",
       "      <td>395.000000</td>\n",
       "      <td>395.000000</td>\n",
       "      <td>395.000000</td>\n",
       "      <td>395.000000</td>\n",
       "      <td>395.000000</td>\n",
       "      <td>395.000000</td>\n",
       "      <td>395.000000</td>\n",
       "      <td>395.000000</td>\n",
       "      <td>395.000000</td>\n",
       "    </tr>\n",
       "    <tr>\n",
       "      <th>mean</th>\n",
       "      <td>16.696203</td>\n",
       "      <td>2.749367</td>\n",
       "      <td>2.521519</td>\n",
       "      <td>1.448101</td>\n",
       "      <td>2.035443</td>\n",
       "      <td>0.334177</td>\n",
       "      <td>3.944304</td>\n",
       "      <td>3.235443</td>\n",
       "      <td>3.108861</td>\n",
       "      <td>1.481013</td>\n",
       "      <td>2.291139</td>\n",
       "      <td>3.554430</td>\n",
       "      <td>5.708861</td>\n",
       "      <td>10.908861</td>\n",
       "      <td>10.713924</td>\n",
       "      <td>10.415190</td>\n",
       "      <td>10.679325</td>\n",
       "    </tr>\n",
       "    <tr>\n",
       "      <th>std</th>\n",
       "      <td>1.276043</td>\n",
       "      <td>1.094735</td>\n",
       "      <td>1.088201</td>\n",
       "      <td>0.697505</td>\n",
       "      <td>0.839240</td>\n",
       "      <td>0.743651</td>\n",
       "      <td>0.896659</td>\n",
       "      <td>0.998862</td>\n",
       "      <td>1.113278</td>\n",
       "      <td>0.890741</td>\n",
       "      <td>1.287897</td>\n",
       "      <td>1.390303</td>\n",
       "      <td>8.003096</td>\n",
       "      <td>3.319195</td>\n",
       "      <td>3.761505</td>\n",
       "      <td>4.581443</td>\n",
       "      <td>3.696786</td>\n",
       "    </tr>\n",
       "    <tr>\n",
       "      <th>min</th>\n",
       "      <td>15.000000</td>\n",
       "      <td>0.000000</td>\n",
       "      <td>0.000000</td>\n",
       "      <td>1.000000</td>\n",
       "      <td>1.000000</td>\n",
       "      <td>0.000000</td>\n",
       "      <td>1.000000</td>\n",
       "      <td>1.000000</td>\n",
       "      <td>1.000000</td>\n",
       "      <td>1.000000</td>\n",
       "      <td>1.000000</td>\n",
       "      <td>1.000000</td>\n",
       "      <td>0.000000</td>\n",
       "      <td>3.000000</td>\n",
       "      <td>0.000000</td>\n",
       "      <td>0.000000</td>\n",
       "      <td>1.333333</td>\n",
       "    </tr>\n",
       "    <tr>\n",
       "      <th>25%</th>\n",
       "      <td>16.000000</td>\n",
       "      <td>2.000000</td>\n",
       "      <td>2.000000</td>\n",
       "      <td>1.000000</td>\n",
       "      <td>1.000000</td>\n",
       "      <td>0.000000</td>\n",
       "      <td>4.000000</td>\n",
       "      <td>3.000000</td>\n",
       "      <td>2.000000</td>\n",
       "      <td>1.000000</td>\n",
       "      <td>1.000000</td>\n",
       "      <td>3.000000</td>\n",
       "      <td>0.000000</td>\n",
       "      <td>8.000000</td>\n",
       "      <td>9.000000</td>\n",
       "      <td>8.000000</td>\n",
       "      <td>8.333333</td>\n",
       "    </tr>\n",
       "    <tr>\n",
       "      <th>50%</th>\n",
       "      <td>17.000000</td>\n",
       "      <td>3.000000</td>\n",
       "      <td>2.000000</td>\n",
       "      <td>1.000000</td>\n",
       "      <td>2.000000</td>\n",
       "      <td>0.000000</td>\n",
       "      <td>4.000000</td>\n",
       "      <td>3.000000</td>\n",
       "      <td>3.000000</td>\n",
       "      <td>1.000000</td>\n",
       "      <td>2.000000</td>\n",
       "      <td>4.000000</td>\n",
       "      <td>4.000000</td>\n",
       "      <td>11.000000</td>\n",
       "      <td>11.000000</td>\n",
       "      <td>11.000000</td>\n",
       "      <td>10.666667</td>\n",
       "    </tr>\n",
       "    <tr>\n",
       "      <th>75%</th>\n",
       "      <td>18.000000</td>\n",
       "      <td>4.000000</td>\n",
       "      <td>3.000000</td>\n",
       "      <td>2.000000</td>\n",
       "      <td>2.000000</td>\n",
       "      <td>0.000000</td>\n",
       "      <td>5.000000</td>\n",
       "      <td>4.000000</td>\n",
       "      <td>4.000000</td>\n",
       "      <td>2.000000</td>\n",
       "      <td>3.000000</td>\n",
       "      <td>5.000000</td>\n",
       "      <td>8.000000</td>\n",
       "      <td>13.000000</td>\n",
       "      <td>13.000000</td>\n",
       "      <td>14.000000</td>\n",
       "      <td>13.333333</td>\n",
       "    </tr>\n",
       "    <tr>\n",
       "      <th>max</th>\n",
       "      <td>22.000000</td>\n",
       "      <td>4.000000</td>\n",
       "      <td>4.000000</td>\n",
       "      <td>4.000000</td>\n",
       "      <td>4.000000</td>\n",
       "      <td>3.000000</td>\n",
       "      <td>5.000000</td>\n",
       "      <td>5.000000</td>\n",
       "      <td>5.000000</td>\n",
       "      <td>5.000000</td>\n",
       "      <td>5.000000</td>\n",
       "      <td>5.000000</td>\n",
       "      <td>75.000000</td>\n",
       "      <td>19.000000</td>\n",
       "      <td>19.000000</td>\n",
       "      <td>20.000000</td>\n",
       "      <td>19.333333</td>\n",
       "    </tr>\n",
       "  </tbody>\n",
       "</table>\n",
       "</div>"
      ],
      "text/plain": [
       "              age        Medu        Fedu  traveltime   studytime    failures  \\\n",
       "count  395.000000  395.000000  395.000000  395.000000  395.000000  395.000000   \n",
       "mean    16.696203    2.749367    2.521519    1.448101    2.035443    0.334177   \n",
       "std      1.276043    1.094735    1.088201    0.697505    0.839240    0.743651   \n",
       "min     15.000000    0.000000    0.000000    1.000000    1.000000    0.000000   \n",
       "25%     16.000000    2.000000    2.000000    1.000000    1.000000    0.000000   \n",
       "50%     17.000000    3.000000    2.000000    1.000000    2.000000    0.000000   \n",
       "75%     18.000000    4.000000    3.000000    2.000000    2.000000    0.000000   \n",
       "max     22.000000    4.000000    4.000000    4.000000    4.000000    3.000000   \n",
       "\n",
       "           famrel    freetime       goout        Dalc        Walc      health  \\\n",
       "count  395.000000  395.000000  395.000000  395.000000  395.000000  395.000000   \n",
       "mean     3.944304    3.235443    3.108861    1.481013    2.291139    3.554430   \n",
       "std      0.896659    0.998862    1.113278    0.890741    1.287897    1.390303   \n",
       "min      1.000000    1.000000    1.000000    1.000000    1.000000    1.000000   \n",
       "25%      4.000000    3.000000    2.000000    1.000000    1.000000    3.000000   \n",
       "50%      4.000000    3.000000    3.000000    1.000000    2.000000    4.000000   \n",
       "75%      5.000000    4.000000    4.000000    2.000000    3.000000    5.000000   \n",
       "max      5.000000    5.000000    5.000000    5.000000    5.000000    5.000000   \n",
       "\n",
       "         absences          G1          G2          G3      GScore  \n",
       "count  395.000000  395.000000  395.000000  395.000000  395.000000  \n",
       "mean     5.708861   10.908861   10.713924   10.415190   10.679325  \n",
       "std      8.003096    3.319195    3.761505    4.581443    3.696786  \n",
       "min      0.000000    3.000000    0.000000    0.000000    1.333333  \n",
       "25%      0.000000    8.000000    9.000000    8.000000    8.333333  \n",
       "50%      4.000000   11.000000   11.000000   11.000000   10.666667  \n",
       "75%      8.000000   13.000000   13.000000   14.000000   13.333333  \n",
       "max     75.000000   19.000000   19.000000   20.000000   19.333333  "
      ]
     },
     "execution_count": 6,
     "metadata": {},
     "output_type": "execute_result"
    }
   ],
   "source": [
    "df.describe()"
   ]
  },
  {
   "cell_type": "code",
   "execution_count": 7,
   "metadata": {
    "scrolled": false
   },
   "outputs": [
    {
     "data": {
      "image/png": "[encoded data removed]",
      "text/plain": [
       "<Figure size 1440x432 with 1 Axes>"
      ]
     },
     "metadata": {
      "needs_background": "light"
     },
     "output_type": "display_data"
    }
   ],
   "source": [
    "fig = plt.figure()\n",
    "df.boxplot()\n",
    "fig.set_figheight(6)\n",
    "fig.set_figwidth(20)"
   ]
  },
  {
   "cell_type": "code",
   "execution_count": 8,
   "metadata": {
    "scrolled": true
   },
   "outputs": [
    {
     "data": {
      "text/plain": [
       "array([[<AxesSubplot:title={'center':'failures'}>,\n",
       "        <AxesSubplot:title={'center':'absences'}>]], dtype=object)"
      ]
     },
     "execution_count": 8,
     "metadata": {},
     "output_type": "execute_result"
    },
    {
     "data": {
      "image/png": "[encoded data removed]",
      "text/plain": [
       "<Figure size 432x288 with 2 Axes>"
      ]
     },
     "metadata": {
      "needs_background": "light"
     },
     "output_type": "display_data"
    }
   ],
   "source": [
    "df[['failures','absences']].hist()"
   ]
  },
  {
   "cell_type": "code",
   "execution_count": 9,
   "metadata": {
    "scrolled": true
   },
   "outputs": [
    {
     "data": {
      "text/plain": [
       "array([[<AxesSubplot:title={'center':'studytime'}>,\n",
       "        <AxesSubplot:title={'center':'traveltime'}>]], dtype=object)"
      ]
     },
     "execution_count": 9,
     "metadata": {},
     "output_type": "execute_result"
    },
    {
     "data": {
      "image/png": "[encoded data removed]",
      "text/plain": [
       "<Figure size 432x288 with 2 Axes>"
      ]
     },
     "metadata": {
      "needs_background": "light"
     },
     "output_type": "display_data"
    }
   ],
   "source": [
    "df[['studytime','traveltime']].hist()"
   ]
  },
  {
   "cell_type": "code",
   "execution_count": 10,
   "metadata": {},
   "outputs": [
    {
     "data": {
      "text/html": [
       "<div>\n",
       "<style scoped>\n",
       "    .dataframe tbody tr th:only-of-type {\n",
       "        vertical-align: middle;\n",
       "    }\n",
       "\n",
       "    .dataframe tbody tr th {\n",
       "        vertical-align: top;\n",
       "    }\n",
       "\n",
       "    .dataframe thead th {\n",
       "        text-align: right;\n",
       "    }\n",
       "</style>\n",
       "<table border=\"1\" class=\"dataframe\">\n",
       "  <thead>\n",
       "    <tr style=\"text-align: right;\">\n",
       "      <th></th>\n",
       "      <th>school</th>\n",
       "      <th>sex</th>\n",
       "      <th>age</th>\n",
       "      <th>address</th>\n",
       "      <th>famsize</th>\n",
       "      <th>Pstatus</th>\n",
       "      <th>Medu</th>\n",
       "      <th>Fedu</th>\n",
       "      <th>Mjob</th>\n",
       "      <th>Fjob</th>\n",
       "      <th>...</th>\n",
       "      <th>freetime</th>\n",
       "      <th>goout</th>\n",
       "      <th>Dalc</th>\n",
       "      <th>Walc</th>\n",
       "      <th>health</th>\n",
       "      <th>absences</th>\n",
       "      <th>G1</th>\n",
       "      <th>G2</th>\n",
       "      <th>G3</th>\n",
       "      <th>GScore</th>\n",
       "    </tr>\n",
       "  </thead>\n",
       "  <tbody>\n",
       "    <tr>\n",
       "      <th>74</th>\n",
       "      <td>GP</td>\n",
       "      <td>F</td>\n",
       "      <td>16</td>\n",
       "      <td>U</td>\n",
       "      <td>GT3</td>\n",
       "      <td>T</td>\n",
       "      <td>3</td>\n",
       "      <td>3</td>\n",
       "      <td>other</td>\n",
       "      <td>services</td>\n",
       "      <td>...</td>\n",
       "      <td>3</td>\n",
       "      <td>3</td>\n",
       "      <td>2</td>\n",
       "      <td>4</td>\n",
       "      <td>5</td>\n",
       "      <td>54</td>\n",
       "      <td>11</td>\n",
       "      <td>12</td>\n",
       "      <td>11</td>\n",
       "      <td>11.333333</td>\n",
       "    </tr>\n",
       "    <tr>\n",
       "      <th>183</th>\n",
       "      <td>GP</td>\n",
       "      <td>F</td>\n",
       "      <td>17</td>\n",
       "      <td>U</td>\n",
       "      <td>LE3</td>\n",
       "      <td>T</td>\n",
       "      <td>3</td>\n",
       "      <td>3</td>\n",
       "      <td>other</td>\n",
       "      <td>other</td>\n",
       "      <td>...</td>\n",
       "      <td>3</td>\n",
       "      <td>3</td>\n",
       "      <td>2</td>\n",
       "      <td>3</td>\n",
       "      <td>1</td>\n",
       "      <td>56</td>\n",
       "      <td>9</td>\n",
       "      <td>9</td>\n",
       "      <td>8</td>\n",
       "      <td>8.666667</td>\n",
       "    </tr>\n",
       "    <tr>\n",
       "      <th>276</th>\n",
       "      <td>GP</td>\n",
       "      <td>F</td>\n",
       "      <td>18</td>\n",
       "      <td>R</td>\n",
       "      <td>GT3</td>\n",
       "      <td>A</td>\n",
       "      <td>3</td>\n",
       "      <td>2</td>\n",
       "      <td>other</td>\n",
       "      <td>services</td>\n",
       "      <td>...</td>\n",
       "      <td>1</td>\n",
       "      <td>1</td>\n",
       "      <td>1</td>\n",
       "      <td>1</td>\n",
       "      <td>5</td>\n",
       "      <td>75</td>\n",
       "      <td>10</td>\n",
       "      <td>9</td>\n",
       "      <td>9</td>\n",
       "      <td>9.333333</td>\n",
       "    </tr>\n",
       "    <tr>\n",
       "      <th>307</th>\n",
       "      <td>GP</td>\n",
       "      <td>M</td>\n",
       "      <td>19</td>\n",
       "      <td>U</td>\n",
       "      <td>GT3</td>\n",
       "      <td>T</td>\n",
       "      <td>4</td>\n",
       "      <td>4</td>\n",
       "      <td>teacher</td>\n",
       "      <td>services</td>\n",
       "      <td>...</td>\n",
       "      <td>3</td>\n",
       "      <td>4</td>\n",
       "      <td>1</td>\n",
       "      <td>1</td>\n",
       "      <td>4</td>\n",
       "      <td>38</td>\n",
       "      <td>8</td>\n",
       "      <td>9</td>\n",
       "      <td>8</td>\n",
       "      <td>8.333333</td>\n",
       "    </tr>\n",
       "    <tr>\n",
       "      <th>315</th>\n",
       "      <td>GP</td>\n",
       "      <td>F</td>\n",
       "      <td>19</td>\n",
       "      <td>R</td>\n",
       "      <td>GT3</td>\n",
       "      <td>T</td>\n",
       "      <td>2</td>\n",
       "      <td>3</td>\n",
       "      <td>other</td>\n",
       "      <td>other</td>\n",
       "      <td>...</td>\n",
       "      <td>1</td>\n",
       "      <td>2</td>\n",
       "      <td>1</td>\n",
       "      <td>1</td>\n",
       "      <td>3</td>\n",
       "      <td>40</td>\n",
       "      <td>13</td>\n",
       "      <td>11</td>\n",
       "      <td>11</td>\n",
       "      <td>11.666667</td>\n",
       "    </tr>\n",
       "  </tbody>\n",
       "</table>\n",
       "<p>5 rows × 34 columns</p>\n",
       "</div>"
      ],
      "text/plain": [
       "    school sex  age address famsize Pstatus  Medu  Fedu     Mjob      Fjob  \\\n",
       "74      GP   F   16       U     GT3       T     3     3    other  services   \n",
       "183     GP   F   17       U     LE3       T     3     3    other     other   \n",
       "276     GP   F   18       R     GT3       A     3     2    other  services   \n",
       "307     GP   M   19       U     GT3       T     4     4  teacher  services   \n",
       "315     GP   F   19       R     GT3       T     2     3    other     other   \n",
       "\n",
       "     ... freetime goout  Dalc  Walc  health absences  G1  G2  G3     GScore  \n",
       "74   ...        3     3     2     4       5       54  11  12  11  11.333333  \n",
       "183  ...        3     3     2     3       1       56   9   9   8   8.666667  \n",
       "276  ...        1     1     1     1       5       75  10   9   9   9.333333  \n",
       "307  ...        3     4     1     1       4       38   8   9   8   8.333333  \n",
       "315  ...        1     2     1     1       3       40  13  11  11  11.666667  \n",
       "\n",
       "[5 rows x 34 columns]"
      ]
     },
     "execution_count": 10,
     "metadata": {},
     "output_type": "execute_result"
    }
   ],
   "source": [
    "df[df.absences > 30]"
   ]
  },
  {
   "cell_type": "code",
   "execution_count": 11,
   "metadata": {},
   "outputs": [],
   "source": [
    "df.drop([74,183,276,307,315],inplace=True)"
   ]
  },
  {
   "cell_type": "code",
   "execution_count": 12,
   "metadata": {
    "scrolled": true
   },
   "outputs": [
    {
     "data": {
      "text/plain": [
       "<AxesSubplot:>"
      ]
     },
     "execution_count": 12,
     "metadata": {},
     "output_type": "execute_result"
    },
    {
     "data": {
      "image/png": "[encoded data removed]",
      "text/plain": [
       "<Figure size 432x288 with 1 Axes>"
      ]
     },
     "metadata": {
      "needs_background": "light"
     },
     "output_type": "display_data"
    }
   ],
   "source": [
    "df['GScore'].hist()"
   ]
  },
  {
   "cell_type": "code",
   "execution_count": 13,
   "metadata": {},
   "outputs": [],
   "source": [
    "conditions = [\n",
    "        (df['GScore'] <= 4),\n",
    "        (df['GScore'] > 4) & (df['GScore'] <= 8),\n",
    "        (df['GScore'] > 8) & (df['GScore'] <= 12),\n",
    "        (df['GScore'] > 12) & (df['GScore'] <= 16),\n",
    "        (df['GScore'] > 16)\n",
    "]\n",
    "\n",
    "values = [5,4,3,2,1]\n",
    "\n",
    "df['Tier']=np.select(conditions, values)"
   ]
  },
  {
   "cell_type": "code",
   "execution_count": 14,
   "metadata": {},
   "outputs": [
    {
     "data": {
      "text/plain": [
       "<AxesSubplot:>"
      ]
     },
     "execution_count": 14,
     "metadata": {},
     "output_type": "execute_result"
    },
    {
     "data": {
      "image/png": "[encoded data removed]",
      "text/plain": [
       "<Figure size 432x288 with 1 Axes>"
      ]
     },
     "metadata": {
      "needs_background": "light"
     },
     "output_type": "display_data"
    }
   ],
   "source": [
    "df['Tier'].hist()"
   ]
  },
  {
   "cell_type": "code",
   "execution_count": 15,
   "metadata": {},
   "outputs": [],
   "source": [
    "df['sex'].replace({'F':1,'M':0},inplace=True)"
   ]
  },
  {
   "cell_type": "code",
   "execution_count": 16,
   "metadata": {},
   "outputs": [],
   "source": [
    "df['address'].replace({'U':1,'R':0},inplace=True)"
   ]
  },
  {
   "cell_type": "code",
   "execution_count": 17,
   "metadata": {},
   "outputs": [],
   "source": [
    "df['famsize'].replace({'LE3':1,'GT3':0},inplace=True)"
   ]
  },
  {
   "cell_type": "code",
   "execution_count": 18,
   "metadata": {},
   "outputs": [],
   "source": [
    "df['Pstatus'].replace({'T':1,'A':0},inplace=True)"
   ]
  },
  {
   "cell_type": "code",
   "execution_count": 19,
   "metadata": {},
   "outputs": [],
   "source": [
    "df['schoolsup'].replace({'yes':1,'no':0},inplace=True)"
   ]
  },
  {
   "cell_type": "code",
   "execution_count": 20,
   "metadata": {},
   "outputs": [],
   "source": [
    "df['famsup'].replace({'yes':1,'no':0},inplace=True)"
   ]
  },
  {
   "cell_type": "code",
   "execution_count": 21,
   "metadata": {},
   "outputs": [],
   "source": [
    "df['paid'].replace({'yes':1,'no':0},inplace=True)"
   ]
  },
  {
   "cell_type": "code",
   "execution_count": 22,
   "metadata": {},
   "outputs": [],
   "source": [
    "df['activities'].replace({'yes':1,'no':0},inplace=True)"
   ]
  },
  {
   "cell_type": "code",
   "execution_count": 23,
   "metadata": {},
   "outputs": [],
   "source": [
    "df['nursery'].replace({'yes':1,'no':0},inplace=True)"
   ]
  },
  {
   "cell_type": "code",
   "execution_count": 24,
   "metadata": {},
   "outputs": [],
   "source": [
    "df['higher'].replace({'yes':1,'no':0},inplace=True)"
   ]
  },
  {
   "cell_type": "code",
   "execution_count": 25,
   "metadata": {},
   "outputs": [],
   "source": [
    "df['internet'].replace({'yes':1,'no':0},inplace=True)"
   ]
  },
  {
   "cell_type": "code",
   "execution_count": 26,
   "metadata": {},
   "outputs": [],
   "source": [
    "df['romantic'].replace({'yes':1,'no':0},inplace=True)\n",
    "\n"
   ]
  },
  {
   "cell_type": "code",
   "execution_count": 27,
   "metadata": {},
   "outputs": [
    {
     "name": "stdout",
     "output_type": "stream",
     "text": [
      "<class 'pandas.core.frame.DataFrame'>\n",
      "Int64Index: 390 entries, 0 to 394\n",
      "Data columns (total 35 columns):\n",
      " #   Column      Non-Null Count  Dtype  \n",
      "---  ------      --------------  -----  \n",
      " 0   school      390 non-null    object \n",
      " 1   sex         390 non-null    int64  \n",
      " 2   age         390 non-null    int64  \n",
      " 3   address     390 non-null    int64  \n",
      " 4   famsize     390 non-null    int64  \n",
      " 5   Pstatus     390 non-null    int64  \n",
      " 6   Medu        390 non-null    int64  \n",
      " 7   Fedu        390 non-null    int64  \n",
      " 8   Mjob        390 non-null    object \n",
      " 9   Fjob        390 non-null    object \n",
      " 10  reason      390 non-null    object \n",
      " 11  guardian    390 non-null    object \n",
      " 12  traveltime  390 non-null    int64  \n",
      " 13  studytime   390 non-null    int64  \n",
      " 14  failures    390 non-null    int64  \n",
      " 15  schoolsup   390 non-null    int64  \n",
      " 16  famsup      390 non-null    int64  \n",
      " 17  paid        390 non-null    int64  \n",
      " 18  activities  390 non-null    int64  \n",
      " 19  nursery     390 non-null    int64  \n",
      " 20  higher      390 non-null    int64  \n",
      " 21  internet    390 non-null    int64  \n",
      " 22  romantic    390 non-null    int64  \n",
      " 23  famrel      390 non-null    int64  \n",
      " 24  freetime    390 non-null    int64  \n",
      " 25  goout       390 non-null    int64  \n",
      " 26  Dalc        390 non-null    int64  \n",
      " 27  Walc        390 non-null    int64  \n",
      " 28  health      390 non-null    int64  \n",
      " 29  absences    390 non-null    int64  \n",
      " 30  G1          390 non-null    int64  \n",
      " 31  G2          390 non-null    int64  \n",
      " 32  G3          390 non-null    int64  \n",
      " 33  GScore      390 non-null    float64\n",
      " 34  Tier        390 non-null    int32  \n",
      "dtypes: float64(1), int32(1), int64(28), object(5)\n",
      "memory usage: 108.2+ KB\n"
     ]
    }
   ],
   "source": [
    "df.info()"
   ]
  },
  {
   "cell_type": "code",
   "execution_count": 28,
   "metadata": {},
   "outputs": [],
   "source": [
    "df_num = df.select_dtypes(include=['number'])"
   ]
  },
  {
   "cell_type": "code",
   "execution_count": 29,
   "metadata": {},
   "outputs": [
    {
     "data": {
      "text/html": [
       "<div>\n",
       "<style scoped>\n",
       "    .dataframe tbody tr th:only-of-type {\n",
       "        vertical-align: middle;\n",
       "    }\n",
       "\n",
       "    .dataframe tbody tr th {\n",
       "        vertical-align: top;\n",
       "    }\n",
       "\n",
       "    .dataframe thead th {\n",
       "        text-align: right;\n",
       "    }\n",
       "</style>\n",
       "<table border=\"1\" class=\"dataframe\">\n",
       "  <thead>\n",
       "    <tr style=\"text-align: right;\">\n",
       "      <th></th>\n",
       "      <th>sex</th>\n",
       "      <th>age</th>\n",
       "      <th>address</th>\n",
       "      <th>famsize</th>\n",
       "      <th>Pstatus</th>\n",
       "      <th>Medu</th>\n",
       "      <th>Fedu</th>\n",
       "      <th>traveltime</th>\n",
       "      <th>studytime</th>\n",
       "      <th>failures</th>\n",
       "      <th>...</th>\n",
       "      <th>goout</th>\n",
       "      <th>Dalc</th>\n",
       "      <th>Walc</th>\n",
       "      <th>health</th>\n",
       "      <th>absences</th>\n",
       "      <th>G1</th>\n",
       "      <th>G2</th>\n",
       "      <th>G3</th>\n",
       "      <th>GScore</th>\n",
       "      <th>Tier</th>\n",
       "    </tr>\n",
       "  </thead>\n",
       "  <tbody>\n",
       "    <tr>\n",
       "      <th>sex</th>\n",
       "      <td>1.000000</td>\n",
       "      <td>0.027746</td>\n",
       "      <td>0.036957</td>\n",
       "      <td>-0.091751</td>\n",
       "      <td>-0.018223</td>\n",
       "      <td>-0.075840</td>\n",
       "      <td>-0.033619</td>\n",
       "      <td>-0.055376</td>\n",
       "      <td>0.303429</td>\n",
       "      <td>-0.041325</td>\n",
       "      <td>...</td>\n",
       "      <td>-0.067149</td>\n",
       "      <td>-0.271978</td>\n",
       "      <td>-0.280028</td>\n",
       "      <td>-0.144283</td>\n",
       "      <td>0.022958</td>\n",
       "      <td>-0.094458</td>\n",
       "      <td>-0.091752</td>\n",
       "      <td>-0.104165</td>\n",
       "      <td>-0.102418</td>\n",
       "      <td>0.102198</td>\n",
       "    </tr>\n",
       "    <tr>\n",
       "      <th>age</th>\n",
       "      <td>0.027746</td>\n",
       "      <td>1.000000</td>\n",
       "      <td>-0.138077</td>\n",
       "      <td>0.044202</td>\n",
       "      <td>0.035164</td>\n",
       "      <td>-0.168323</td>\n",
       "      <td>-0.172486</td>\n",
       "      <td>0.068323</td>\n",
       "      <td>-0.003722</td>\n",
       "      <td>0.239359</td>\n",
       "      <td>...</td>\n",
       "      <td>0.135026</td>\n",
       "      <td>0.139633</td>\n",
       "      <td>0.132800</td>\n",
       "      <td>-0.063082</td>\n",
       "      <td>0.165289</td>\n",
       "      <td>-0.062587</td>\n",
       "      <td>-0.141346</td>\n",
       "      <td>-0.160187</td>\n",
       "      <td>-0.132863</td>\n",
       "      <td>0.137527</td>\n",
       "    </tr>\n",
       "    <tr>\n",
       "      <th>address</th>\n",
       "      <td>0.036957</td>\n",
       "      <td>-0.138077</td>\n",
       "      <td>1.000000</td>\n",
       "      <td>0.067048</td>\n",
       "      <td>-0.057497</td>\n",
       "      <td>0.136182</td>\n",
       "      <td>0.069917</td>\n",
       "      <td>-0.331069</td>\n",
       "      <td>-0.014075</td>\n",
       "      <td>-0.077444</td>\n",
       "      <td>...</td>\n",
       "      <td>0.055215</td>\n",
       "      <td>-0.100665</td>\n",
       "      <td>-0.113685</td>\n",
       "      <td>-0.037316</td>\n",
       "      <td>0.016216</td>\n",
       "      <td>0.074196</td>\n",
       "      <td>0.126380</td>\n",
       "      <td>0.107304</td>\n",
       "      <td>0.109404</td>\n",
       "      <td>-0.095366</td>\n",
       "    </tr>\n",
       "    <tr>\n",
       "      <th>famsize</th>\n",
       "      <td>-0.091751</td>\n",
       "      <td>0.044202</td>\n",
       "      <td>0.067048</td>\n",
       "      <td>1.000000</td>\n",
       "      <td>-0.156686</td>\n",
       "      <td>-0.042820</td>\n",
       "      <td>-0.058274</td>\n",
       "      <td>0.067088</td>\n",
       "      <td>-0.074355</td>\n",
       "      <td>-0.012639</td>\n",
       "      <td>...</td>\n",
       "      <td>0.020146</td>\n",
       "      <td>0.098227</td>\n",
       "      <td>0.099673</td>\n",
       "      <td>-0.018682</td>\n",
       "      <td>0.066839</td>\n",
       "      <td>0.073459</td>\n",
       "      <td>0.082741</td>\n",
       "      <td>0.083064</td>\n",
       "      <td>0.084362</td>\n",
       "      <td>-0.072226</td>\n",
       "    </tr>\n",
       "    <tr>\n",
       "      <th>Pstatus</th>\n",
       "      <td>-0.018223</td>\n",
       "      <td>0.035164</td>\n",
       "      <td>-0.057497</td>\n",
       "      <td>-0.156686</td>\n",
       "      <td>1.000000</td>\n",
       "      <td>-0.124381</td>\n",
       "      <td>-0.096022</td>\n",
       "      <td>0.035660</td>\n",
       "      <td>0.024494</td>\n",
       "      <td>-0.007559</td>\n",
       "      <td>...</td>\n",
       "      <td>-0.010528</td>\n",
       "      <td>-0.035167</td>\n",
       "      <td>-0.001348</td>\n",
       "      <td>0.031402</td>\n",
       "      <td>-0.122971</td>\n",
       "      <td>-0.018485</td>\n",
       "      <td>-0.044923</td>\n",
       "      <td>-0.060384</td>\n",
       "      <td>-0.045720</td>\n",
       "      <td>0.030260</td>\n",
       "    </tr>\n",
       "    <tr>\n",
       "      <th>Medu</th>\n",
       "      <td>-0.075840</td>\n",
       "      <td>-0.168323</td>\n",
       "      <td>0.136182</td>\n",
       "      <td>-0.042820</td>\n",
       "      <td>-0.124381</td>\n",
       "      <td>1.000000</td>\n",
       "      <td>0.623674</td>\n",
       "      <td>-0.175747</td>\n",
       "      <td>0.071025</td>\n",
       "      <td>-0.238193</td>\n",
       "      <td>...</td>\n",
       "      <td>0.061839</td>\n",
       "      <td>0.020191</td>\n",
       "      <td>-0.046876</td>\n",
       "      <td>-0.049125</td>\n",
       "      <td>0.115849</td>\n",
       "      <td>0.210399</td>\n",
       "      <td>0.218061</td>\n",
       "      <td>0.220050</td>\n",
       "      <td>0.227828</td>\n",
       "      <td>-0.211927</td>\n",
       "    </tr>\n",
       "    <tr>\n",
       "      <th>Fedu</th>\n",
       "      <td>-0.033619</td>\n",
       "      <td>-0.172486</td>\n",
       "      <td>0.069917</td>\n",
       "      <td>-0.058274</td>\n",
       "      <td>-0.096022</td>\n",
       "      <td>0.623674</td>\n",
       "      <td>1.000000</td>\n",
       "      <td>-0.158844</td>\n",
       "      <td>-0.006200</td>\n",
       "      <td>-0.255627</td>\n",
       "      <td>...</td>\n",
       "      <td>0.039803</td>\n",
       "      <td>0.002916</td>\n",
       "      <td>-0.011466</td>\n",
       "      <td>0.016410</td>\n",
       "      <td>0.002972</td>\n",
       "      <td>0.193926</td>\n",
       "      <td>0.166689</td>\n",
       "      <td>0.154878</td>\n",
       "      <td>0.178543</td>\n",
       "      <td>-0.170727</td>\n",
       "    </tr>\n",
       "    <tr>\n",
       "      <th>traveltime</th>\n",
       "      <td>-0.055376</td>\n",
       "      <td>0.068323</td>\n",
       "      <td>-0.331069</td>\n",
       "      <td>0.067088</td>\n",
       "      <td>0.035660</td>\n",
       "      <td>-0.175747</td>\n",
       "      <td>-0.158844</td>\n",
       "      <td>1.000000</td>\n",
       "      <td>-0.097270</td>\n",
       "      <td>0.091887</td>\n",
       "      <td>...</td>\n",
       "      <td>0.029074</td>\n",
       "      <td>0.142243</td>\n",
       "      <td>0.140921</td>\n",
       "      <td>0.002849</td>\n",
       "      <td>-0.015661</td>\n",
       "      <td>-0.091068</td>\n",
       "      <td>-0.152057</td>\n",
       "      <td>-0.116378</td>\n",
       "      <td>-0.126910</td>\n",
       "      <td>0.129908</td>\n",
       "    </tr>\n",
       "    <tr>\n",
       "      <th>studytime</th>\n",
       "      <td>0.303429</td>\n",
       "      <td>-0.003722</td>\n",
       "      <td>-0.014075</td>\n",
       "      <td>-0.074355</td>\n",
       "      <td>0.024494</td>\n",
       "      <td>0.071025</td>\n",
       "      <td>-0.006200</td>\n",
       "      <td>-0.097270</td>\n",
       "      <td>1.000000</td>\n",
       "      <td>-0.174636</td>\n",
       "      <td>...</td>\n",
       "      <td>-0.059329</td>\n",
       "      <td>-0.197171</td>\n",
       "      <td>-0.256490</td>\n",
       "      <td>-0.074238</td>\n",
       "      <td>-0.083602</td>\n",
       "      <td>0.156821</td>\n",
       "      <td>0.134785</td>\n",
       "      <td>0.096151</td>\n",
       "      <td>0.132355</td>\n",
       "      <td>-0.107484</td>\n",
       "    </tr>\n",
       "    <tr>\n",
       "      <th>failures</th>\n",
       "      <td>-0.041325</td>\n",
       "      <td>0.239359</td>\n",
       "      <td>-0.077444</td>\n",
       "      <td>-0.012639</td>\n",
       "      <td>-0.007559</td>\n",
       "      <td>-0.238193</td>\n",
       "      <td>-0.255627</td>\n",
       "      <td>0.091887</td>\n",
       "      <td>-0.174636</td>\n",
       "      <td>1.000000</td>\n",
       "      <td>...</td>\n",
       "      <td>0.123802</td>\n",
       "      <td>0.139884</td>\n",
       "      <td>0.148898</td>\n",
       "      <td>0.066962</td>\n",
       "      <td>0.095153</td>\n",
       "      <td>-0.356805</td>\n",
       "      <td>-0.357020</td>\n",
       "      <td>-0.361642</td>\n",
       "      <td>-0.377262</td>\n",
       "      <td>0.362946</td>\n",
       "    </tr>\n",
       "    <tr>\n",
       "      <th>schoolsup</th>\n",
       "      <td>0.135839</td>\n",
       "      <td>-0.248312</td>\n",
       "      <td>0.018974</td>\n",
       "      <td>-0.025143</td>\n",
       "      <td>-0.047319</td>\n",
       "      <td>-0.037087</td>\n",
       "      <td>0.036804</td>\n",
       "      <td>-0.004784</td>\n",
       "      <td>0.038373</td>\n",
       "      <td>0.003430</td>\n",
       "      <td>...</td>\n",
       "      <td>-0.039810</td>\n",
       "      <td>-0.026631</td>\n",
       "      <td>-0.099850</td>\n",
       "      <td>-0.042533</td>\n",
       "      <td>0.007399</td>\n",
       "      <td>-0.216297</td>\n",
       "      <td>-0.122145</td>\n",
       "      <td>-0.085701</td>\n",
       "      <td>-0.141534</td>\n",
       "      <td>0.110454</td>\n",
       "    </tr>\n",
       "    <tr>\n",
       "      <th>famsup</th>\n",
       "      <td>0.157925</td>\n",
       "      <td>-0.136872</td>\n",
       "      <td>0.008920</td>\n",
       "      <td>-0.118923</td>\n",
       "      <td>0.008898</td>\n",
       "      <td>0.180652</td>\n",
       "      <td>0.182650</td>\n",
       "      <td>-0.001835</td>\n",
       "      <td>0.152947</td>\n",
       "      <td>-0.054145</td>\n",
       "      <td>...</td>\n",
       "      <td>-0.026412</td>\n",
       "      <td>-0.036586</td>\n",
       "      <td>-0.096079</td>\n",
       "      <td>0.032753</td>\n",
       "      <td>0.045454</td>\n",
       "      <td>-0.081247</td>\n",
       "      <td>-0.059669</td>\n",
       "      <td>-0.038146</td>\n",
       "      <td>-0.060303</td>\n",
       "      <td>0.044061</td>\n",
       "    </tr>\n",
       "    <tr>\n",
       "      <th>paid</th>\n",
       "      <td>0.137731</td>\n",
       "      <td>-0.032778</td>\n",
       "      <td>0.043089</td>\n",
       "      <td>-0.009801</td>\n",
       "      <td>0.040009</td>\n",
       "      <td>0.156755</td>\n",
       "      <td>0.083770</td>\n",
       "      <td>-0.068626</td>\n",
       "      <td>0.174937</td>\n",
       "      <td>-0.190996</td>\n",
       "      <td>...</td>\n",
       "      <td>0.001602</td>\n",
       "      <td>0.061692</td>\n",
       "      <td>0.056884</td>\n",
       "      <td>-0.085834</td>\n",
       "      <td>0.034231</td>\n",
       "      <td>0.041244</td>\n",
       "      <td>0.104309</td>\n",
       "      <td>0.102166</td>\n",
       "      <td>0.089939</td>\n",
       "      <td>-0.091626</td>\n",
       "    </tr>\n",
       "    <tr>\n",
       "      <th>activities</th>\n",
       "      <td>-0.103643</td>\n",
       "      <td>-0.091828</td>\n",
       "      <td>-0.063319</td>\n",
       "      <td>-0.007451</td>\n",
       "      <td>0.091469</td>\n",
       "      <td>0.109889</td>\n",
       "      <td>0.114996</td>\n",
       "      <td>-0.002164</td>\n",
       "      <td>0.090666</td>\n",
       "      <td>-0.064229</td>\n",
       "      <td>...</td>\n",
       "      <td>0.041711</td>\n",
       "      <td>-0.074214</td>\n",
       "      <td>-0.050569</td>\n",
       "      <td>0.028786</td>\n",
       "      <td>-0.000380</td>\n",
       "      <td>0.057506</td>\n",
       "      <td>0.049033</td>\n",
       "      <td>0.015371</td>\n",
       "      <td>0.040183</td>\n",
       "      <td>-0.055422</td>\n",
       "    </tr>\n",
       "    <tr>\n",
       "      <th>nursery</th>\n",
       "      <td>0.010758</td>\n",
       "      <td>-0.087211</td>\n",
       "      <td>0.051447</td>\n",
       "      <td>0.100497</td>\n",
       "      <td>-0.108945</td>\n",
       "      <td>0.194917</td>\n",
       "      <td>0.152804</td>\n",
       "      <td>-0.028191</td>\n",
       "      <td>0.082139</td>\n",
       "      <td>-0.105073</td>\n",
       "      <td>...</td>\n",
       "      <td>-0.004395</td>\n",
       "      <td>-0.088378</td>\n",
       "      <td>-0.105711</td>\n",
       "      <td>-0.012325</td>\n",
       "      <td>0.049763</td>\n",
       "      <td>0.069490</td>\n",
       "      <td>0.066988</td>\n",
       "      <td>0.051420</td>\n",
       "      <td>0.064755</td>\n",
       "      <td>-0.079323</td>\n",
       "    </tr>\n",
       "    <tr>\n",
       "      <th>higher</th>\n",
       "      <td>0.165460</td>\n",
       "      <td>-0.206786</td>\n",
       "      <td>0.023278</td>\n",
       "      <td>-0.012993</td>\n",
       "      <td>-0.076504</td>\n",
       "      <td>0.175540</td>\n",
       "      <td>0.172557</td>\n",
       "      <td>-0.076257</td>\n",
       "      <td>0.179721</td>\n",
       "      <td>-0.314270</td>\n",
       "      <td>...</td>\n",
       "      <td>-0.062235</td>\n",
       "      <td>-0.077860</td>\n",
       "      <td>-0.114813</td>\n",
       "      <td>-0.004095</td>\n",
       "      <td>0.038973</td>\n",
       "      <td>0.180443</td>\n",
       "      <td>0.178916</td>\n",
       "      <td>0.184156</td>\n",
       "      <td>0.190757</td>\n",
       "      <td>-0.180249</td>\n",
       "    </tr>\n",
       "    <tr>\n",
       "      <th>internet</th>\n",
       "      <td>-0.047604</td>\n",
       "      <td>-0.118421</td>\n",
       "      <td>0.221785</td>\n",
       "      <td>0.001855</td>\n",
       "      <td>0.072822</td>\n",
       "      <td>0.200899</td>\n",
       "      <td>0.125565</td>\n",
       "      <td>-0.111401</td>\n",
       "      <td>0.059959</td>\n",
       "      <td>-0.064223</td>\n",
       "      <td>...</td>\n",
       "      <td>0.077616</td>\n",
       "      <td>0.036853</td>\n",
       "      <td>0.013088</td>\n",
       "      <td>-0.081080</td>\n",
       "      <td>0.094114</td>\n",
       "      <td>0.073087</td>\n",
       "      <td>0.120800</td>\n",
       "      <td>0.099973</td>\n",
       "      <td>0.104150</td>\n",
       "      <td>-0.092933</td>\n",
       "    </tr>\n",
       "    <tr>\n",
       "      <th>romantic</th>\n",
       "      <td>0.098901</td>\n",
       "      <td>0.149244</td>\n",
       "      <td>0.016143</td>\n",
       "      <td>0.035063</td>\n",
       "      <td>-0.033690</td>\n",
       "      <td>0.037274</td>\n",
       "      <td>0.010173</td>\n",
       "      <td>0.020035</td>\n",
       "      <td>0.054609</td>\n",
       "      <td>0.090357</td>\n",
       "      <td>...</td>\n",
       "      <td>0.015873</td>\n",
       "      <td>0.020152</td>\n",
       "      <td>0.001089</td>\n",
       "      <td>0.031918</td>\n",
       "      <td>0.111841</td>\n",
       "      <td>-0.033617</td>\n",
       "      <td>-0.107783</td>\n",
       "      <td>-0.126771</td>\n",
       "      <td>-0.099004</td>\n",
       "      <td>0.111401</td>\n",
       "    </tr>\n",
       "    <tr>\n",
       "      <th>famrel</th>\n",
       "      <td>-0.062595</td>\n",
       "      <td>0.053179</td>\n",
       "      <td>0.013256</td>\n",
       "      <td>-0.027242</td>\n",
       "      <td>0.024811</td>\n",
       "      <td>-0.004774</td>\n",
       "      <td>-0.002997</td>\n",
       "      <td>-0.015006</td>\n",
       "      <td>0.040102</td>\n",
       "      <td>-0.043337</td>\n",
       "      <td>...</td>\n",
       "      <td>0.065784</td>\n",
       "      <td>-0.079466</td>\n",
       "      <td>-0.115721</td>\n",
       "      <td>0.100147</td>\n",
       "      <td>-0.092802</td>\n",
       "      <td>0.024065</td>\n",
       "      <td>-0.016879</td>\n",
       "      <td>0.053182</td>\n",
       "      <td>0.023447</td>\n",
       "      <td>-0.050662</td>\n",
       "    </tr>\n",
       "    <tr>\n",
       "      <th>freetime</th>\n",
       "      <td>-0.231800</td>\n",
       "      <td>0.034329</td>\n",
       "      <td>0.014917</td>\n",
       "      <td>0.010809</td>\n",
       "      <td>0.025152</td>\n",
       "      <td>0.029761</td>\n",
       "      <td>-0.011852</td>\n",
       "      <td>-0.016758</td>\n",
       "      <td>-0.140040</td>\n",
       "      <td>0.096058</td>\n",
       "      <td>...</td>\n",
       "      <td>0.274289</td>\n",
       "      <td>0.206329</td>\n",
       "      <td>0.139639</td>\n",
       "      <td>0.080740</td>\n",
       "      <td>0.036703</td>\n",
       "      <td>0.013959</td>\n",
       "      <td>-0.016538</td>\n",
       "      <td>0.009823</td>\n",
       "      <td>0.002623</td>\n",
       "      <td>-0.017584</td>\n",
       "    </tr>\n",
       "    <tr>\n",
       "      <th>goout</th>\n",
       "      <td>-0.067149</td>\n",
       "      <td>0.135026</td>\n",
       "      <td>0.055215</td>\n",
       "      <td>0.020146</td>\n",
       "      <td>-0.010528</td>\n",
       "      <td>0.061839</td>\n",
       "      <td>0.039803</td>\n",
       "      <td>0.029074</td>\n",
       "      <td>-0.059329</td>\n",
       "      <td>0.123802</td>\n",
       "      <td>...</td>\n",
       "      <td>1.000000</td>\n",
       "      <td>0.266719</td>\n",
       "      <td>0.421040</td>\n",
       "      <td>-0.006525</td>\n",
       "      <td>0.128075</td>\n",
       "      <td>-0.148487</td>\n",
       "      <td>-0.164622</td>\n",
       "      <td>-0.134011</td>\n",
       "      <td>-0.155630</td>\n",
       "      <td>0.158038</td>\n",
       "    </tr>\n",
       "    <tr>\n",
       "      <th>Dalc</th>\n",
       "      <td>-0.271978</td>\n",
       "      <td>0.139633</td>\n",
       "      <td>-0.100665</td>\n",
       "      <td>0.098227</td>\n",
       "      <td>-0.035167</td>\n",
       "      <td>0.020191</td>\n",
       "      <td>0.002916</td>\n",
       "      <td>0.142243</td>\n",
       "      <td>-0.197171</td>\n",
       "      <td>0.139884</td>\n",
       "      <td>...</td>\n",
       "      <td>0.266719</td>\n",
       "      <td>1.000000</td>\n",
       "      <td>0.646090</td>\n",
       "      <td>0.080429</td>\n",
       "      <td>0.162077</td>\n",
       "      <td>-0.094440</td>\n",
       "      <td>-0.065290</td>\n",
       "      <td>-0.055200</td>\n",
       "      <td>-0.073202</td>\n",
       "      <td>0.047583</td>\n",
       "    </tr>\n",
       "    <tr>\n",
       "      <th>Walc</th>\n",
       "      <td>-0.280028</td>\n",
       "      <td>0.132800</td>\n",
       "      <td>-0.113685</td>\n",
       "      <td>0.099673</td>\n",
       "      <td>-0.001348</td>\n",
       "      <td>-0.046876</td>\n",
       "      <td>-0.011466</td>\n",
       "      <td>0.140921</td>\n",
       "      <td>-0.256490</td>\n",
       "      <td>0.148898</td>\n",
       "      <td>...</td>\n",
       "      <td>0.421040</td>\n",
       "      <td>0.646090</td>\n",
       "      <td>1.000000</td>\n",
       "      <td>0.095305</td>\n",
       "      <td>0.209488</td>\n",
       "      <td>-0.127881</td>\n",
       "      <td>-0.088229</td>\n",
       "      <td>-0.053838</td>\n",
       "      <td>-0.090422</td>\n",
       "      <td>0.090577</td>\n",
       "    </tr>\n",
       "    <tr>\n",
       "      <th>health</th>\n",
       "      <td>-0.144283</td>\n",
       "      <td>-0.063082</td>\n",
       "      <td>-0.037316</td>\n",
       "      <td>-0.018682</td>\n",
       "      <td>0.031402</td>\n",
       "      <td>-0.049125</td>\n",
       "      <td>0.016410</td>\n",
       "      <td>0.002849</td>\n",
       "      <td>-0.074238</td>\n",
       "      <td>0.066962</td>\n",
       "      <td>...</td>\n",
       "      <td>-0.006525</td>\n",
       "      <td>0.080429</td>\n",
       "      <td>0.095305</td>\n",
       "      <td>1.000000</td>\n",
       "      <td>-0.053437</td>\n",
       "      <td>-0.074551</td>\n",
       "      <td>-0.099928</td>\n",
       "      <td>-0.063278</td>\n",
       "      <td>-0.082343</td>\n",
       "      <td>0.080130</td>\n",
       "    </tr>\n",
       "    <tr>\n",
       "      <th>absences</th>\n",
       "      <td>0.022958</td>\n",
       "      <td>0.165289</td>\n",
       "      <td>0.016216</td>\n",
       "      <td>0.066839</td>\n",
       "      <td>-0.122971</td>\n",
       "      <td>0.115849</td>\n",
       "      <td>0.002972</td>\n",
       "      <td>-0.015661</td>\n",
       "      <td>-0.083602</td>\n",
       "      <td>0.095153</td>\n",
       "      <td>...</td>\n",
       "      <td>0.128075</td>\n",
       "      <td>0.162077</td>\n",
       "      <td>0.209488</td>\n",
       "      <td>-0.053437</td>\n",
       "      <td>1.000000</td>\n",
       "      <td>-0.019258</td>\n",
       "      <td>-0.021735</td>\n",
       "      <td>0.071524</td>\n",
       "      <td>0.016423</td>\n",
       "      <td>-0.009197</td>\n",
       "    </tr>\n",
       "    <tr>\n",
       "      <th>G1</th>\n",
       "      <td>-0.094458</td>\n",
       "      <td>-0.062587</td>\n",
       "      <td>0.074196</td>\n",
       "      <td>0.073459</td>\n",
       "      <td>-0.018485</td>\n",
       "      <td>0.210399</td>\n",
       "      <td>0.193926</td>\n",
       "      <td>-0.091068</td>\n",
       "      <td>0.156821</td>\n",
       "      <td>-0.356805</td>\n",
       "      <td>...</td>\n",
       "      <td>-0.148487</td>\n",
       "      <td>-0.094440</td>\n",
       "      <td>-0.127881</td>\n",
       "      <td>-0.074551</td>\n",
       "      <td>-0.019258</td>\n",
       "      <td>1.000000</td>\n",
       "      <td>0.852483</td>\n",
       "      <td>0.801391</td>\n",
       "      <td>0.919411</td>\n",
       "      <td>-0.870998</td>\n",
       "    </tr>\n",
       "    <tr>\n",
       "      <th>G2</th>\n",
       "      <td>-0.091752</td>\n",
       "      <td>-0.141346</td>\n",
       "      <td>0.126380</td>\n",
       "      <td>0.082741</td>\n",
       "      <td>-0.044923</td>\n",
       "      <td>0.218061</td>\n",
       "      <td>0.166689</td>\n",
       "      <td>-0.152057</td>\n",
       "      <td>0.134785</td>\n",
       "      <td>-0.357020</td>\n",
       "      <td>...</td>\n",
       "      <td>-0.164622</td>\n",
       "      <td>-0.065290</td>\n",
       "      <td>-0.088229</td>\n",
       "      <td>-0.099928</td>\n",
       "      <td>-0.021735</td>\n",
       "      <td>0.852483</td>\n",
       "      <td>1.000000</td>\n",
       "      <td>0.904797</td>\n",
       "      <td>0.968073</td>\n",
       "      <td>-0.930339</td>\n",
       "    </tr>\n",
       "    <tr>\n",
       "      <th>G3</th>\n",
       "      <td>-0.104165</td>\n",
       "      <td>-0.160187</td>\n",
       "      <td>0.107304</td>\n",
       "      <td>0.083064</td>\n",
       "      <td>-0.060384</td>\n",
       "      <td>0.220050</td>\n",
       "      <td>0.154878</td>\n",
       "      <td>-0.116378</td>\n",
       "      <td>0.096151</td>\n",
       "      <td>-0.361642</td>\n",
       "      <td>...</td>\n",
       "      <td>-0.134011</td>\n",
       "      <td>-0.055200</td>\n",
       "      <td>-0.053838</td>\n",
       "      <td>-0.063278</td>\n",
       "      <td>0.071524</td>\n",
       "      <td>0.801391</td>\n",
       "      <td>0.904797</td>\n",
       "      <td>1.000000</td>\n",
       "      <td>0.959837</td>\n",
       "      <td>-0.921106</td>\n",
       "    </tr>\n",
       "    <tr>\n",
       "      <th>GScore</th>\n",
       "      <td>-0.102418</td>\n",
       "      <td>-0.132863</td>\n",
       "      <td>0.109404</td>\n",
       "      <td>0.084362</td>\n",
       "      <td>-0.045720</td>\n",
       "      <td>0.227828</td>\n",
       "      <td>0.178543</td>\n",
       "      <td>-0.126910</td>\n",
       "      <td>0.132355</td>\n",
       "      <td>-0.377262</td>\n",
       "      <td>...</td>\n",
       "      <td>-0.155630</td>\n",
       "      <td>-0.073202</td>\n",
       "      <td>-0.090422</td>\n",
       "      <td>-0.082343</td>\n",
       "      <td>0.016423</td>\n",
       "      <td>0.919411</td>\n",
       "      <td>0.968073</td>\n",
       "      <td>0.959837</td>\n",
       "      <td>1.000000</td>\n",
       "      <td>-0.956716</td>\n",
       "    </tr>\n",
       "    <tr>\n",
       "      <th>Tier</th>\n",
       "      <td>0.102198</td>\n",
       "      <td>0.137527</td>\n",
       "      <td>-0.095366</td>\n",
       "      <td>-0.072226</td>\n",
       "      <td>0.030260</td>\n",
       "      <td>-0.211927</td>\n",
       "      <td>-0.170727</td>\n",
       "      <td>0.129908</td>\n",
       "      <td>-0.107484</td>\n",
       "      <td>0.362946</td>\n",
       "      <td>...</td>\n",
       "      <td>0.158038</td>\n",
       "      <td>0.047583</td>\n",
       "      <td>0.090577</td>\n",
       "      <td>0.080130</td>\n",
       "      <td>-0.009197</td>\n",
       "      <td>-0.870998</td>\n",
       "      <td>-0.930339</td>\n",
       "      <td>-0.921106</td>\n",
       "      <td>-0.956716</td>\n",
       "      <td>1.000000</td>\n",
       "    </tr>\n",
       "  </tbody>\n",
       "</table>\n",
       "<p>30 rows × 30 columns</p>\n",
       "</div>"
      ],
      "text/plain": [
       "                 sex       age   address   famsize   Pstatus      Medu  \\\n",
       "sex         1.000000  0.027746  0.036957 -0.091751 -0.018223 -0.075840   \n",
       "age         0.027746  1.000000 -0.138077  0.044202  0.035164 -0.168323   \n",
       "address     0.036957 -0.138077  1.000000  0.067048 -0.057497  0.136182   \n",
       "famsize    -0.091751  0.044202  0.067048  1.000000 -0.156686 -0.042820   \n",
       "Pstatus    -0.018223  0.035164 -0.057497 -0.156686  1.000000 -0.124381   \n",
       "Medu       -0.075840 -0.168323  0.136182 -0.042820 -0.124381  1.000000   \n",
       "Fedu       -0.033619 -0.172486  0.069917 -0.058274 -0.096022  0.623674   \n",
       "traveltime -0.055376  0.068323 -0.331069  0.067088  0.035660 -0.175747   \n",
       "studytime   0.303429 -0.003722 -0.014075 -0.074355  0.024494  0.071025   \n",
       "failures   -0.041325  0.239359 -0.077444 -0.012639 -0.007559 -0.238193   \n",
       "schoolsup   0.135839 -0.248312  0.018974 -0.025143 -0.047319 -0.037087   \n",
       "famsup      0.157925 -0.136872  0.008920 -0.118923  0.008898  0.180652   \n",
       "paid        0.137731 -0.032778  0.043089 -0.009801  0.040009  0.156755   \n",
       "activities -0.103643 -0.091828 -0.063319 -0.007451  0.091469  0.109889   \n",
       "nursery     0.010758 -0.087211  0.051447  0.100497 -0.108945  0.194917   \n",
       "higher      0.165460 -0.206786  0.023278 -0.012993 -0.076504  0.175540   \n",
       "internet   -0.047604 -0.118421  0.221785  0.001855  0.072822  0.200899   \n",
       "romantic    0.098901  0.149244  0.016143  0.035063 -0.033690  0.037274   \n",
       "famrel     -0.062595  0.053179  0.013256 -0.027242  0.024811 -0.004774   \n",
       "freetime   -0.231800  0.034329  0.014917  0.010809  0.025152  0.029761   \n",
       "goout      -0.067149  0.135026  0.055215  0.020146 -0.010528  0.061839   \n",
       "Dalc       -0.271978  0.139633 -0.100665  0.098227 -0.035167  0.020191   \n",
       "Walc       -0.280028  0.132800 -0.113685  0.099673 -0.001348 -0.046876   \n",
       "health     -0.144283 -0.063082 -0.037316 -0.018682  0.031402 -0.049125   \n",
       "absences    0.022958  0.165289  0.016216  0.066839 -0.122971  0.115849   \n",
       "G1         -0.094458 -0.062587  0.074196  0.073459 -0.018485  0.210399   \n",
       "G2         -0.091752 -0.141346  0.126380  0.082741 -0.044923  0.218061   \n",
       "G3         -0.104165 -0.160187  0.107304  0.083064 -0.060384  0.220050   \n",
       "GScore     -0.102418 -0.132863  0.109404  0.084362 -0.045720  0.227828   \n",
       "Tier        0.102198  0.137527 -0.095366 -0.072226  0.030260 -0.211927   \n",
       "\n",
       "                Fedu  traveltime  studytime  failures  ...     goout  \\\n",
       "sex        -0.033619   -0.055376   0.303429 -0.041325  ... -0.067149   \n",
       "age        -0.172486    0.068323  -0.003722  0.239359  ...  0.135026   \n",
       "address     0.069917   -0.331069  -0.014075 -0.077444  ...  0.055215   \n",
       "famsize    -0.058274    0.067088  -0.074355 -0.012639  ...  0.020146   \n",
       "Pstatus    -0.096022    0.035660   0.024494 -0.007559  ... -0.010528   \n",
       "Medu        0.623674   -0.175747   0.071025 -0.238193  ...  0.061839   \n",
       "Fedu        1.000000   -0.158844  -0.006200 -0.255627  ...  0.039803   \n",
       "traveltime -0.158844    1.000000  -0.097270  0.091887  ...  0.029074   \n",
       "studytime  -0.006200   -0.097270   1.000000 -0.174636  ... -0.059329   \n",
       "failures   -0.255627    0.091887  -0.174636  1.000000  ...  0.123802   \n",
       "schoolsup   0.036804   -0.004784   0.038373  0.003430  ... -0.039810   \n",
       "famsup      0.182650   -0.001835   0.152947 -0.054145  ... -0.026412   \n",
       "paid        0.083770   -0.068626   0.174937 -0.190996  ...  0.001602   \n",
       "activities  0.114996   -0.002164   0.090666 -0.064229  ...  0.041711   \n",
       "nursery     0.152804   -0.028191   0.082139 -0.105073  ... -0.004395   \n",
       "higher      0.172557   -0.076257   0.179721 -0.314270  ... -0.062235   \n",
       "internet    0.125565   -0.111401   0.059959 -0.064223  ...  0.077616   \n",
       "romantic    0.010173    0.020035   0.054609  0.090357  ...  0.015873   \n",
       "famrel     -0.002997   -0.015006   0.040102 -0.043337  ...  0.065784   \n",
       "freetime   -0.011852   -0.016758  -0.140040  0.096058  ...  0.274289   \n",
       "goout       0.039803    0.029074  -0.059329  0.123802  ...  1.000000   \n",
       "Dalc        0.002916    0.142243  -0.197171  0.139884  ...  0.266719   \n",
       "Walc       -0.011466    0.140921  -0.256490  0.148898  ...  0.421040   \n",
       "health      0.016410    0.002849  -0.074238  0.066962  ... -0.006525   \n",
       "absences    0.002972   -0.015661  -0.083602  0.095153  ...  0.128075   \n",
       "G1          0.193926   -0.091068   0.156821 -0.356805  ... -0.148487   \n",
       "G2          0.166689   -0.152057   0.134785 -0.357020  ... -0.164622   \n",
       "G3          0.154878   -0.116378   0.096151 -0.361642  ... -0.134011   \n",
       "GScore      0.178543   -0.126910   0.132355 -0.377262  ... -0.155630   \n",
       "Tier       -0.170727    0.129908  -0.107484  0.362946  ...  0.158038   \n",
       "\n",
       "                Dalc      Walc    health  absences        G1        G2  \\\n",
       "sex        -0.271978 -0.280028 -0.144283  0.022958 -0.094458 -0.091752   \n",
       "age         0.139633  0.132800 -0.063082  0.165289 -0.062587 -0.141346   \n",
       "address    -0.100665 -0.113685 -0.037316  0.016216  0.074196  0.126380   \n",
       "famsize     0.098227  0.099673 -0.018682  0.066839  0.073459  0.082741   \n",
       "Pstatus    -0.035167 -0.001348  0.031402 -0.122971 -0.018485 -0.044923   \n",
       "Medu        0.020191 -0.046876 -0.049125  0.115849  0.210399  0.218061   \n",
       "Fedu        0.002916 -0.011466  0.016410  0.002972  0.193926  0.166689   \n",
       "traveltime  0.142243  0.140921  0.002849 -0.015661 -0.091068 -0.152057   \n",
       "studytime  -0.197171 -0.256490 -0.074238 -0.083602  0.156821  0.134785   \n",
       "failures    0.139884  0.148898  0.066962  0.095153 -0.356805 -0.357020   \n",
       "schoolsup  -0.026631 -0.099850 -0.042533  0.007399 -0.216297 -0.122145   \n",
       "famsup     -0.036586 -0.096079  0.032753  0.045454 -0.081247 -0.059669   \n",
       "paid        0.061692  0.056884 -0.085834  0.034231  0.041244  0.104309   \n",
       "activities -0.074214 -0.050569  0.028786 -0.000380  0.057506  0.049033   \n",
       "nursery    -0.088378 -0.105711 -0.012325  0.049763  0.069490  0.066988   \n",
       "higher     -0.077860 -0.114813 -0.004095  0.038973  0.180443  0.178916   \n",
       "internet    0.036853  0.013088 -0.081080  0.094114  0.073087  0.120800   \n",
       "romantic    0.020152  0.001089  0.031918  0.111841 -0.033617 -0.107783   \n",
       "famrel     -0.079466 -0.115721  0.100147 -0.092802  0.024065 -0.016879   \n",
       "freetime    0.206329  0.139639  0.080740  0.036703  0.013959 -0.016538   \n",
       "goout       0.266719  0.421040 -0.006525  0.128075 -0.148487 -0.164622   \n",
       "Dalc        1.000000  0.646090  0.080429  0.162077 -0.094440 -0.065290   \n",
       "Walc        0.646090  1.000000  0.095305  0.209488 -0.127881 -0.088229   \n",
       "health      0.080429  0.095305  1.000000 -0.053437 -0.074551 -0.099928   \n",
       "absences    0.162077  0.209488 -0.053437  1.000000 -0.019258 -0.021735   \n",
       "G1         -0.094440 -0.127881 -0.074551 -0.019258  1.000000  0.852483   \n",
       "G2         -0.065290 -0.088229 -0.099928 -0.021735  0.852483  1.000000   \n",
       "G3         -0.055200 -0.053838 -0.063278  0.071524  0.801391  0.904797   \n",
       "GScore     -0.073202 -0.090422 -0.082343  0.016423  0.919411  0.968073   \n",
       "Tier        0.047583  0.090577  0.080130 -0.009197 -0.870998 -0.930339   \n",
       "\n",
       "                  G3    GScore      Tier  \n",
       "sex        -0.104165 -0.102418  0.102198  \n",
       "age        -0.160187 -0.132863  0.137527  \n",
       "address     0.107304  0.109404 -0.095366  \n",
       "famsize     0.083064  0.084362 -0.072226  \n",
       "Pstatus    -0.060384 -0.045720  0.030260  \n",
       "Medu        0.220050  0.227828 -0.211927  \n",
       "Fedu        0.154878  0.178543 -0.170727  \n",
       "traveltime -0.116378 -0.126910  0.129908  \n",
       "studytime   0.096151  0.132355 -0.107484  \n",
       "failures   -0.361642 -0.377262  0.362946  \n",
       "schoolsup  -0.085701 -0.141534  0.110454  \n",
       "famsup     -0.038146 -0.060303  0.044061  \n",
       "paid        0.102166  0.089939 -0.091626  \n",
       "activities  0.015371  0.040183 -0.055422  \n",
       "nursery     0.051420  0.064755 -0.079323  \n",
       "higher      0.184156  0.190757 -0.180249  \n",
       "internet    0.099973  0.104150 -0.092933  \n",
       "romantic   -0.126771 -0.099004  0.111401  \n",
       "famrel      0.053182  0.023447 -0.050662  \n",
       "freetime    0.009823  0.002623 -0.017584  \n",
       "goout      -0.134011 -0.155630  0.158038  \n",
       "Dalc       -0.055200 -0.073202  0.047583  \n",
       "Walc       -0.053838 -0.090422  0.090577  \n",
       "health     -0.063278 -0.082343  0.080130  \n",
       "absences    0.071524  0.016423 -0.009197  \n",
       "G1          0.801391  0.919411 -0.870998  \n",
       "G2          0.904797  0.968073 -0.930339  \n",
       "G3          1.000000  0.959837 -0.921106  \n",
       "GScore      0.959837  1.000000 -0.956716  \n",
       "Tier       -0.921106 -0.956716  1.000000  \n",
       "\n",
       "[30 rows x 30 columns]"
      ]
     },
     "execution_count": 29,
     "metadata": {},
     "output_type": "execute_result"
    }
   ],
   "source": [
    "df_num.corr()"
   ]
  },
  {
   "cell_type": "code",
   "execution_count": 30,
   "metadata": {},
   "outputs": [
    {
     "data": {
      "image/png": "[encoded data removed]",
      "text/plain": [
       "<Figure size 1440x1080 with 2 Axes>"
      ]
     },
     "metadata": {},
     "output_type": "display_data"
    }
   ],
   "source": [
    "# correlation matrix heatmap visualization\n",
    "sns.set(style=\"white\")\n",
    "\n",
    "# Generate a mask for the upper triangle\n",
    "matrix = np.triu(df.corr())\n",
    "\n",
    "# Set up the matplotlib figure to control size of heatmap\n",
    "fig, ax = plt.subplots(figsize=(20,15))\n",
    "\n",
    "# Plot the heatmap\n",
    "_ = sns.heatmap(df.corr(), mask=matrix, annot=True, annot_kws={\"size\": 12}, square=True, \n",
    "                cmap='coolwarm' , vmin=-1, vmax=1, fmt='.2f') "
   ]
  },
  {
   "cell_type": "code",
   "execution_count": 31,
   "metadata": {},
   "outputs": [],
   "source": [
    "df['Pedu'] = df[['Medu','Fedu']].mean(axis=1)"
   ]
  },
  {
   "cell_type": "code",
   "execution_count": 32,
   "metadata": {
    "scrolled": true
   },
   "outputs": [
    {
     "data": {
      "text/plain": [
       "0      4.0\n",
       "1      1.0\n",
       "2      1.0\n",
       "3      3.0\n",
       "4      3.0\n",
       "      ... \n",
       "390    2.0\n",
       "391    2.0\n",
       "392    1.0\n",
       "393    2.5\n",
       "394    1.0\n",
       "Name: Pedu, Length: 390, dtype: float64"
      ]
     },
     "execution_count": 32,
     "metadata": {},
     "output_type": "execute_result"
    }
   ],
   "source": [
    "df['Pedu']"
   ]
  },
  {
   "cell_type": "code",
   "execution_count": 33,
   "metadata": {},
   "outputs": [],
   "source": [
    "#Initial\n",
    "\n",
    "#X = df[['sex','age','famsize','Pstatus','traveltime','studytime','schoolsup','famsup','paid','activities','nursery','higher','internet','romantic','famrel','freetime','goout','Walc','health', 'absences','Pedu']]\n",
    "#y = df['Tier']\n",
    "\n",
    "#Kbest\n",
    "\n",
    "#X = df[['schoolsup','paid','romantic','famrel','goout','Walc','health', 'absences','Pedu']]\n",
    "#y = df['Tier']"
   ]
  },
  {
   "cell_type": "code",
   "execution_count": 34,
   "metadata": {},
   "outputs": [],
   "source": [
    "models = []\n",
    "precision_list = []\n",
    "recall_list = []\n",
    "f1_score_list = []\n",
    "training_acc_list = []\n",
    "testing_acc_list = []"
   ]
  },
  {
   "cell_type": "code",
   "execution_count": 35,
   "metadata": {},
   "outputs": [],
   "source": [
    "X = df[['sex','age','famsize','Pstatus','traveltime','studytime','schoolsup','famsup','paid','activities','nursery','higher','internet','romantic','famrel','freetime','goout','Walc','health', 'absences','Pedu']]\n",
    "y = df['Tier']"
   ]
  },
  {
   "cell_type": "code",
   "execution_count": 36,
   "metadata": {},
   "outputs": [],
   "source": [
    "from sklearn.datasets import load_digits\n",
    "from sklearn.feature_selection import SelectKBest, chi2\n"
   ]
  },
  {
   "cell_type": "code",
   "execution_count": 37,
   "metadata": {},
   "outputs": [
    {
     "data": {
      "text/plain": [
       "SelectKBest(k=8, score_func=<function chi2 at 0x000001D128AD0D30>)"
      ]
     },
     "execution_count": 37,
     "metadata": {},
     "output_type": "execute_result"
    }
   ],
   "source": [
    "selector = SelectKBest(score_func=chi2, k=8)\n",
    "selector.fit(X,y)"
   ]
  },
  {
   "cell_type": "code",
   "execution_count": 38,
   "metadata": {},
   "outputs": [],
   "source": [
    "cols = selector.get_support(indices=True)\n",
    "features_df_new = X.iloc[:,cols]"
   ]
  },
  {
   "cell_type": "code",
   "execution_count": 39,
   "metadata": {},
   "outputs": [
    {
     "data": {
      "text/html": [
       "<div>\n",
       "<style scoped>\n",
       "    .dataframe tbody tr th:only-of-type {\n",
       "        vertical-align: middle;\n",
       "    }\n",
       "\n",
       "    .dataframe tbody tr th {\n",
       "        vertical-align: top;\n",
       "    }\n",
       "\n",
       "    .dataframe thead th {\n",
       "        text-align: right;\n",
       "    }\n",
       "</style>\n",
       "<table border=\"1\" class=\"dataframe\">\n",
       "  <thead>\n",
       "    <tr style=\"text-align: right;\">\n",
       "      <th></th>\n",
       "      <th>schoolsup</th>\n",
       "      <th>paid</th>\n",
       "      <th>romantic</th>\n",
       "      <th>goout</th>\n",
       "      <th>Walc</th>\n",
       "      <th>health</th>\n",
       "      <th>absences</th>\n",
       "      <th>Pedu</th>\n",
       "    </tr>\n",
       "  </thead>\n",
       "  <tbody>\n",
       "    <tr>\n",
       "      <th>0</th>\n",
       "      <td>1</td>\n",
       "      <td>0</td>\n",
       "      <td>0</td>\n",
       "      <td>4</td>\n",
       "      <td>1</td>\n",
       "      <td>3</td>\n",
       "      <td>6</td>\n",
       "      <td>4.0</td>\n",
       "    </tr>\n",
       "    <tr>\n",
       "      <th>1</th>\n",
       "      <td>0</td>\n",
       "      <td>0</td>\n",
       "      <td>0</td>\n",
       "      <td>3</td>\n",
       "      <td>1</td>\n",
       "      <td>3</td>\n",
       "      <td>4</td>\n",
       "      <td>1.0</td>\n",
       "    </tr>\n",
       "    <tr>\n",
       "      <th>2</th>\n",
       "      <td>1</td>\n",
       "      <td>1</td>\n",
       "      <td>0</td>\n",
       "      <td>2</td>\n",
       "      <td>3</td>\n",
       "      <td>3</td>\n",
       "      <td>10</td>\n",
       "      <td>1.0</td>\n",
       "    </tr>\n",
       "    <tr>\n",
       "      <th>3</th>\n",
       "      <td>0</td>\n",
       "      <td>1</td>\n",
       "      <td>1</td>\n",
       "      <td>2</td>\n",
       "      <td>1</td>\n",
       "      <td>5</td>\n",
       "      <td>2</td>\n",
       "      <td>3.0</td>\n",
       "    </tr>\n",
       "    <tr>\n",
       "      <th>4</th>\n",
       "      <td>0</td>\n",
       "      <td>1</td>\n",
       "      <td>0</td>\n",
       "      <td>2</td>\n",
       "      <td>2</td>\n",
       "      <td>5</td>\n",
       "      <td>4</td>\n",
       "      <td>3.0</td>\n",
       "    </tr>\n",
       "    <tr>\n",
       "      <th>...</th>\n",
       "      <td>...</td>\n",
       "      <td>...</td>\n",
       "      <td>...</td>\n",
       "      <td>...</td>\n",
       "      <td>...</td>\n",
       "      <td>...</td>\n",
       "      <td>...</td>\n",
       "      <td>...</td>\n",
       "    </tr>\n",
       "    <tr>\n",
       "      <th>390</th>\n",
       "      <td>0</td>\n",
       "      <td>1</td>\n",
       "      <td>0</td>\n",
       "      <td>4</td>\n",
       "      <td>5</td>\n",
       "      <td>4</td>\n",
       "      <td>11</td>\n",
       "      <td>2.0</td>\n",
       "    </tr>\n",
       "    <tr>\n",
       "      <th>391</th>\n",
       "      <td>0</td>\n",
       "      <td>0</td>\n",
       "      <td>0</td>\n",
       "      <td>5</td>\n",
       "      <td>4</td>\n",
       "      <td>2</td>\n",
       "      <td>3</td>\n",
       "      <td>2.0</td>\n",
       "    </tr>\n",
       "    <tr>\n",
       "      <th>392</th>\n",
       "      <td>0</td>\n",
       "      <td>0</td>\n",
       "      <td>0</td>\n",
       "      <td>3</td>\n",
       "      <td>3</td>\n",
       "      <td>3</td>\n",
       "      <td>3</td>\n",
       "      <td>1.0</td>\n",
       "    </tr>\n",
       "    <tr>\n",
       "      <th>393</th>\n",
       "      <td>0</td>\n",
       "      <td>0</td>\n",
       "      <td>0</td>\n",
       "      <td>1</td>\n",
       "      <td>4</td>\n",
       "      <td>5</td>\n",
       "      <td>0</td>\n",
       "      <td>2.5</td>\n",
       "    </tr>\n",
       "    <tr>\n",
       "      <th>394</th>\n",
       "      <td>0</td>\n",
       "      <td>0</td>\n",
       "      <td>0</td>\n",
       "      <td>3</td>\n",
       "      <td>3</td>\n",
       "      <td>5</td>\n",
       "      <td>5</td>\n",
       "      <td>1.0</td>\n",
       "    </tr>\n",
       "  </tbody>\n",
       "</table>\n",
       "<p>390 rows × 8 columns</p>\n",
       "</div>"
      ],
      "text/plain": [
       "     schoolsup  paid  romantic  goout  Walc  health  absences  Pedu\n",
       "0            1     0         0      4     1       3         6   4.0\n",
       "1            0     0         0      3     1       3         4   1.0\n",
       "2            1     1         0      2     3       3        10   1.0\n",
       "3            0     1         1      2     1       5         2   3.0\n",
       "4            0     1         0      2     2       5         4   3.0\n",
       "..         ...   ...       ...    ...   ...     ...       ...   ...\n",
       "390          0     1         0      4     5       4        11   2.0\n",
       "391          0     0         0      5     4       2         3   2.0\n",
       "392          0     0         0      3     3       3         3   1.0\n",
       "393          0     0         0      1     4       5         0   2.5\n",
       "394          0     0         0      3     3       5         5   1.0\n",
       "\n",
       "[390 rows x 8 columns]"
      ]
     },
     "execution_count": 39,
     "metadata": {},
     "output_type": "execute_result"
    }
   ],
   "source": [
    "features_df_new"
   ]
  },
  {
   "cell_type": "code",
   "execution_count": 40,
   "metadata": {},
   "outputs": [],
   "source": [
    "from sklearn.model_selection import train_test_split\n",
    "\n",
    "X_train, X_test, y_train, y_test = train_test_split(X ,y, \n",
    "                                                    test_size = 0.2, \n",
    "                                                    shuffle=True, \n",
    "                                                    stratify=y,\n",
    "                                                    random_state=42)"
   ]
  },
  {
   "cell_type": "code",
   "execution_count": 41,
   "metadata": {},
   "outputs": [
    {
     "data": {
      "text/plain": [
       "LogisticRegression(max_iter=5000)"
      ]
     },
     "execution_count": 41,
     "metadata": {},
     "output_type": "execute_result"
    }
   ],
   "source": [
    "# Import the logistic regression algorithm\n",
    "from sklearn.linear_model import LogisticRegression\n",
    "\n",
    "classifier = LogisticRegression(max_iter=5000)\n",
    "\n",
    "# Train the model\n",
    "classifier.fit(X_train, y_train)"
   ]
  },
  {
   "cell_type": "code",
   "execution_count": 42,
   "metadata": {},
   "outputs": [],
   "source": [
    "# Kept aside some data to test - X_test\n",
    "y_pred = classifier.predict(X_test)\n",
    "\n",
    "compare_df = pd.DataFrame({\"Desired Output (Actuals)\": y_test, \n",
    "                           \"Predicted Output\": y_pred})"
   ]
  },
  {
   "cell_type": "code",
   "execution_count": 43,
   "metadata": {
    "scrolled": true
   },
   "outputs": [
    {
     "data": {
      "text/html": [
       "<div>\n",
       "<style scoped>\n",
       "    .dataframe tbody tr th:only-of-type {\n",
       "        vertical-align: middle;\n",
       "    }\n",
       "\n",
       "    .dataframe tbody tr th {\n",
       "        vertical-align: top;\n",
       "    }\n",
       "\n",
       "    .dataframe thead th {\n",
       "        text-align: right;\n",
       "    }\n",
       "</style>\n",
       "<table border=\"1\" class=\"dataframe\">\n",
       "  <thead>\n",
       "    <tr style=\"text-align: right;\">\n",
       "      <th></th>\n",
       "      <th>Desired Output (Actuals)</th>\n",
       "      <th>Predicted Output</th>\n",
       "    </tr>\n",
       "  </thead>\n",
       "  <tbody>\n",
       "    <tr>\n",
       "      <th>95</th>\n",
       "      <td>3</td>\n",
       "      <td>3</td>\n",
       "    </tr>\n",
       "    <tr>\n",
       "      <th>330</th>\n",
       "      <td>3</td>\n",
       "      <td>2</td>\n",
       "    </tr>\n",
       "    <tr>\n",
       "      <th>314</th>\n",
       "      <td>2</td>\n",
       "      <td>3</td>\n",
       "    </tr>\n",
       "    <tr>\n",
       "      <th>130</th>\n",
       "      <td>5</td>\n",
       "      <td>2</td>\n",
       "    </tr>\n",
       "    <tr>\n",
       "      <th>106</th>\n",
       "      <td>4</td>\n",
       "      <td>3</td>\n",
       "    </tr>\n",
       "    <tr>\n",
       "      <th>165</th>\n",
       "      <td>3</td>\n",
       "      <td>4</td>\n",
       "    </tr>\n",
       "    <tr>\n",
       "      <th>30</th>\n",
       "      <td>3</td>\n",
       "      <td>2</td>\n",
       "    </tr>\n",
       "    <tr>\n",
       "      <th>251</th>\n",
       "      <td>3</td>\n",
       "      <td>3</td>\n",
       "    </tr>\n",
       "    <tr>\n",
       "      <th>78</th>\n",
       "      <td>3</td>\n",
       "      <td>4</td>\n",
       "    </tr>\n",
       "    <tr>\n",
       "      <th>167</th>\n",
       "      <td>2</td>\n",
       "      <td>2</td>\n",
       "    </tr>\n",
       "  </tbody>\n",
       "</table>\n",
       "</div>"
      ],
      "text/plain": [
       "     Desired Output (Actuals)  Predicted Output\n",
       "95                          3                 3\n",
       "330                         3                 2\n",
       "314                         2                 3\n",
       "130                         5                 2\n",
       "106                         4                 3\n",
       "165                         3                 4\n",
       "30                          3                 2\n",
       "251                         3                 3\n",
       "78                          3                 4\n",
       "167                         2                 2"
      ]
     },
     "execution_count": 43,
     "metadata": {},
     "output_type": "execute_result"
    }
   ],
   "source": [
    "compare_df[:10]"
   ]
  },
  {
   "cell_type": "code",
   "execution_count": 44,
   "metadata": {},
   "outputs": [
    {
     "name": "stdout",
     "output_type": "stream",
     "text": [
      "Classification report:\n",
      "\n",
      "              precision    recall  f1-score   support\n",
      "\n",
      "           1       0.50      0.20      0.29         5\n",
      "           2       0.50      0.33      0.40        24\n",
      "           3       0.46      0.73      0.56        30\n",
      "           4       0.43      0.20      0.27        15\n",
      "           5       0.60      0.75      0.67         4\n",
      "\n",
      "    accuracy                           0.47        78\n",
      "   macro avg       0.50      0.44      0.44        78\n",
      "weighted avg       0.48      0.47      0.44        78\n",
      "\n",
      "\n"
     ]
    }
   ],
   "source": [
    "from sklearn.metrics import classification_report, confusion_matrix, \\\n",
    "                            precision_score, recall_score\n",
    "\n",
    "# Classification Report\n",
    "print(\"Classification report:\")\n",
    "print()\n",
    "print(classification_report(y_test, y_pred))\n",
    "print()"
   ]
  },
  {
   "cell_type": "code",
   "execution_count": 45,
   "metadata": {},
   "outputs": [],
   "source": [
    "logreg = LogisticRegression()"
   ]
  },
  {
   "cell_type": "code",
   "execution_count": 46,
   "metadata": {
    "scrolled": true
   },
   "outputs": [],
   "source": [
    "models.append('Logistic Regression')\n",
    "precision_list.append(precision_score(y_test, y_pred, average='macro'))\n",
    "recall_list.append(recall_score(y_test, y_pred, average='macro'))\n",
    "f1_score_list.append(f1_score(y_test, y_pred, average='macro'))\n",
    "training_acc_list.append(accuracy_score(y_train, classifier.predict(X_train)))\n",
    "testing_acc_list.append(accuracy_score(y_test, y_pred))"
   ]
  },
  {
   "cell_type": "code",
   "execution_count": 47,
   "metadata": {},
   "outputs": [],
   "source": [
    "class_names = [1,2,3,4,5]"
   ]
  },
  {
   "cell_type": "code",
   "execution_count": 48,
   "metadata": {},
   "outputs": [
    {
     "data": {
      "image/png": "[encoded data removed]",
      "text/plain": [
       "<Figure size 648x504 with 2 Axes>"
      ]
     },
     "metadata": {},
     "output_type": "display_data"
    }
   ],
   "source": [
    "# Plot the confusion matrix using Seaborn library\n",
    "plt.figure(figsize=(9,7))\n",
    "_ = sns.heatmap(confusion_matrix(y_test, y_pred), \n",
    "                annot=True, annot_kws={\"size\": 18},\n",
    "                cmap=plt.cm.Blues,\n",
    "                xticklabels=class_names, yticklabels=class_names)\n",
    "_ = plt.ylabel('True Label', fontweight='bold')\n",
    "_ = plt.xlabel('Predicted Label', fontweight='bold')"
   ]
  },
  {
   "cell_type": "code",
   "execution_count": 49,
   "metadata": {},
   "outputs": [],
   "source": [
    "#MLP"
   ]
  },
  {
   "cell_type": "code",
   "execution_count": 50,
   "metadata": {},
   "outputs": [],
   "source": [
    "from sklearn.preprocessing import StandardScaler\n",
    "\n",
    "scaler = StandardScaler()\n",
    "\n",
    "# Fit only to the training data\n",
    "scaler.fit(X_train)\n",
    "\n",
    "StandardScaler(copy=True, with_mean=True, with_std=True)\n",
    "\n",
    "# Now apply the transformations to the data:\n",
    "X_train_scaled = scaler.transform(X_train)\n",
    "X_test_scaled = scaler.transform(X_test)"
   ]
  },
  {
   "cell_type": "code",
   "execution_count": 51,
   "metadata": {},
   "outputs": [],
   "source": [
    "from sklearn.neural_network import MLPClassifier\n",
    "from sklearn.model_selection import GridSearchCV"
   ]
  },
  {
   "cell_type": "code",
   "execution_count": 52,
   "metadata": {},
   "outputs": [],
   "source": [
    "# Multi-Level Perceptron\n",
    "mlp = MLPClassifier()"
   ]
  },
  {
   "cell_type": "code",
   "execution_count": 53,
   "metadata": {
    "scrolled": true
   },
   "outputs": [
    {
     "name": "stdout",
     "output_type": "stream",
     "text": [
      "Wall time: 9.36 s\n"
     ]
    },
    {
     "data": {
      "text/plain": [
       "GridSearchCV(cv=5, estimator=MLPClassifier(), n_jobs=-1,\n",
       "             param_grid={'alpha': array([0.0001, 0.001 , 0.01  , 0.1   ]),\n",
       "                         'hidden_layer_sizes': [(3, 3), (32, 32), (9, 9, 9)],\n",
       "                         'max_iter': [1000]},\n",
       "             scoring='f1_macro')"
      ]
     },
     "execution_count": 53,
     "metadata": {},
     "output_type": "execute_result"
    }
   ],
   "source": [
    "%%time\n",
    "# Hyperparameter tuning using K-fold cross validation\n",
    "# ... via Grid Search method\n",
    "param_grid = {'hidden_layer_sizes': [(3,3),\n",
    "                                     (32,32),\n",
    "                                     (9,9,9)], \n",
    "              'alpha': np.logspace(-4, -1, 4),\n",
    "              'max_iter': [1000]}\n",
    "\n",
    "gs_mlp = GridSearchCV(mlp,\n",
    "                      param_grid, \n",
    "                      cv=5,\n",
    "                      scoring='f1_macro',\n",
    "                      n_jobs=-1)\n",
    "gs_mlp.fit(X_train_scaled, y_train)"
   ]
  },
  {
   "cell_type": "code",
   "execution_count": 54,
   "metadata": {},
   "outputs": [
    {
     "name": "stdout",
     "output_type": "stream",
     "text": [
      "MLPClassifier(hidden_layer_sizes=(32, 32), max_iter=1000)\n",
      "{'alpha': 0.0001, 'hidden_layer_sizes': (32, 32), 'max_iter': 1000}\n",
      "0.2814120460959223\n"
     ]
    }
   ],
   "source": [
    "# Best model hyperparameters and score\n",
    "print(gs_mlp.best_estimator_)\n",
    "print(gs_mlp.best_params_)\n",
    "print(gs_mlp.best_score_)"
   ]
  },
  {
   "cell_type": "code",
   "execution_count": 55,
   "metadata": {},
   "outputs": [
    {
     "data": {
      "text/plain": [
       "MLPClassifier(hidden_layer_sizes=(32, 32), max_iter=1000)"
      ]
     },
     "execution_count": 55,
     "metadata": {},
     "output_type": "execute_result"
    }
   ],
   "source": [
    "# Using best estimator found by GridSearchCV\n",
    "mlp = gs_mlp.best_estimator_\n",
    "mlp.fit(X_train_scaled, y_train)"
   ]
  },
  {
   "cell_type": "code",
   "execution_count": 56,
   "metadata": {},
   "outputs": [],
   "source": [
    "y_pred = mlp.predict(X_test_scaled)"
   ]
  },
  {
   "cell_type": "code",
   "execution_count": 57,
   "metadata": {
    "scrolled": true
   },
   "outputs": [
    {
     "name": "stdout",
     "output_type": "stream",
     "text": [
      "              precision    recall  f1-score   support\n",
      "\n",
      "           1       0.67      0.40      0.50         5\n",
      "           2       0.36      0.33      0.35        24\n",
      "           3       0.55      0.53      0.54        30\n",
      "           4       0.17      0.27      0.21        15\n",
      "           5       1.00      0.25      0.40         4\n",
      "\n",
      "    accuracy                           0.40        78\n",
      "   macro avg       0.55      0.36      0.40        78\n",
      "weighted avg       0.45      0.40      0.41        78\n",
      "\n"
     ]
    }
   ],
   "source": [
    "print(classification_report(y_test, y_pred))"
   ]
  },
  {
   "cell_type": "code",
   "execution_count": 58,
   "metadata": {},
   "outputs": [],
   "source": [
    "models.append('Multilevel Perceptron')\n",
    "precision_list.append(precision_score(y_test, y_pred, average='macro'))\n",
    "recall_list.append(recall_score(y_test, y_pred, average='macro'))\n",
    "f1_score_list.append(f1_score(y_test, y_pred, average='macro'))\n",
    "training_acc_list.append(accuracy_score(y_train, mlp.predict(X_train_scaled)))\n",
    "testing_acc_list.append(accuracy_score(y_test, y_pred))"
   ]
  },
  {
   "cell_type": "code",
   "execution_count": 59,
   "metadata": {},
   "outputs": [
    {
     "data": {
      "image/png": "[encoded data removed]",
      "text/plain": [
       "<Figure size 648x504 with 2 Axes>"
      ]
     },
     "metadata": {},
     "output_type": "display_data"
    }
   ],
   "source": [
    "# Plot the confusion matrix using Seaborn library\n",
    "plt.figure(figsize=(9,7))\n",
    "_ = sns.heatmap(confusion_matrix(y_test, y_pred), \n",
    "                annot=True, annot_kws={\"size\": 18},\n",
    "                cmap=plt.cm.Blues,\n",
    "                xticklabels=class_names, yticklabels=class_names)\n",
    "_ = plt.ylabel('True Label', fontweight='bold')\n",
    "_ = plt.xlabel('Predicted Label', fontweight='bold')"
   ]
  },
  {
   "cell_type": "code",
   "execution_count": 60,
   "metadata": {},
   "outputs": [],
   "source": [
    "#Random Forest"
   ]
  },
  {
   "cell_type": "code",
   "execution_count": 61,
   "metadata": {},
   "outputs": [],
   "source": [
    "from sklearn.ensemble import RandomForestClassifier"
   ]
  },
  {
   "cell_type": "code",
   "execution_count": 62,
   "metadata": {},
   "outputs": [],
   "source": [
    "# Split the Data\n",
    "X_train, X_test, y_train, y_test = train_test_split(X, y, test_size = 0.20, random_state = 0)"
   ]
  },
  {
   "cell_type": "code",
   "execution_count": 63,
   "metadata": {},
   "outputs": [
    {
     "data": {
      "text/plain": [
       "RandomForestClassifier()"
      ]
     },
     "execution_count": 63,
     "metadata": {},
     "output_type": "execute_result"
    }
   ],
   "source": [
    "rf_classifier = RandomForestClassifier()\n",
    "rf_classifier.fit(X_train, y_train)"
   ]
  },
  {
   "cell_type": "code",
   "execution_count": 64,
   "metadata": {},
   "outputs": [],
   "source": [
    "y_pred = rf_classifier.predict(X_test)"
   ]
  },
  {
   "cell_type": "code",
   "execution_count": 65,
   "metadata": {
    "scrolled": true
   },
   "outputs": [
    {
     "name": "stdout",
     "output_type": "stream",
     "text": [
      "              precision    recall  f1-score   support\n",
      "\n",
      "           1       0.00      0.00      0.00         7\n",
      "           2       0.34      0.48      0.40        23\n",
      "           3       0.41      0.50      0.45        32\n",
      "           4       0.50      0.20      0.29        15\n",
      "           5       0.00      0.00      0.00         1\n",
      "\n",
      "    accuracy                           0.38        78\n",
      "   macro avg       0.25      0.24      0.23        78\n",
      "weighted avg       0.37      0.38      0.36        78\n",
      "\n"
     ]
    },
    {
     "name": "stderr",
     "output_type": "stream",
     "text": [
      "C:\\Users\\xiong\\anaconda3\\lib\\site-packages\\sklearn\\metrics\\_classification.py:1221: UndefinedMetricWarning: Precision and F-score are ill-defined and being set to 0.0 in labels with no predicted samples. Use `zero_division` parameter to control this behavior.\n",
      "  _warn_prf(average, modifier, msg_start, len(result))\n"
     ]
    }
   ],
   "source": [
    "# Classification Report\n",
    "print(classification_report(y_test,y_pred))"
   ]
  },
  {
   "cell_type": "code",
   "execution_count": 66,
   "metadata": {},
   "outputs": [
    {
     "name": "stderr",
     "output_type": "stream",
     "text": [
      "C:\\Users\\xiong\\anaconda3\\lib\\site-packages\\sklearn\\metrics\\_classification.py:1221: UndefinedMetricWarning: Precision is ill-defined and being set to 0.0 in labels with no predicted samples. Use `zero_division` parameter to control this behavior.\n",
      "  _warn_prf(average, modifier, msg_start, len(result))\n"
     ]
    }
   ],
   "source": [
    "models.append('Random Forest 1')\n",
    "precision_list.append(precision_score(y_test, y_pred, average='macro'))\n",
    "recall_list.append(recall_score(y_test, y_pred, average='macro'))\n",
    "f1_score_list.append(f1_score(y_test, y_pred, average='macro'))\n",
    "training_acc_list.append(accuracy_score(y_train, rf_classifier.predict(X_train_scaled)))\n",
    "testing_acc_list.append(accuracy_score(y_test, y_pred))"
   ]
  },
  {
   "cell_type": "code",
   "execution_count": 67,
   "metadata": {},
   "outputs": [
    {
     "data": {
      "image/png": "[encoded data removed]",
      "text/plain": [
       "<Figure size 648x504 with 2 Axes>"
      ]
     },
     "metadata": {},
     "output_type": "display_data"
    }
   ],
   "source": [
    "# Plot the confusion matrix using Seaborn library\n",
    "plt.figure(figsize=(9,7))\n",
    "_ = sns.heatmap(confusion_matrix(y_test, y_pred), \n",
    "                annot=True, annot_kws={\"size\": 18},\n",
    "                cmap=plt.cm.Blues,\n",
    "                xticklabels=class_names, yticklabels=class_names)\n",
    "_ = plt.ylabel('True Label', fontweight='bold')\n",
    "_ = plt.xlabel('Predicted Label', fontweight='bold')"
   ]
  },
  {
   "cell_type": "code",
   "execution_count": 68,
   "metadata": {},
   "outputs": [],
   "source": [
    "# Random Forest\n",
    "rf = RandomForestClassifier(n_jobs=-1)"
   ]
  },
  {
   "cell_type": "code",
   "execution_count": 69,
   "metadata": {},
   "outputs": [
    {
     "name": "stdout",
     "output_type": "stream",
     "text": [
      "Wall time: 9.29 s\n"
     ]
    },
    {
     "data": {
      "text/plain": [
       "GridSearchCV(cv=5, estimator=RandomForestClassifier(n_jobs=-1), n_jobs=-1,\n",
       "             param_grid={'criterion': ['gini', 'entropy'],\n",
       "                         'max_depth': [5, 10, 25],\n",
       "                         'min_samples_split': [5, 10, 15],\n",
       "                         'n_estimators': [100, 200, 300]},\n",
       "             scoring='f1_macro')"
      ]
     },
     "execution_count": 69,
     "metadata": {},
     "output_type": "execute_result"
    }
   ],
   "source": [
    "%%time\n",
    "# Hyperparameter tuning using K-fold cross validation\n",
    "# ... via Grid Search method\n",
    "param_grid = {'n_estimators': [100, 200, 300],\n",
    "              'criterion': ['gini', 'entropy'],\n",
    "              'max_depth': [5, 10, 25],\n",
    "              'min_samples_split': [5, 10, 15]}\n",
    "\n",
    "gs_rf = GridSearchCV(rf,\n",
    "                    param_grid, \n",
    "                    cv=5,\n",
    "                    scoring='f1_macro',\n",
    "                    n_jobs=-1)\n",
    "gs_rf.fit(X_train, y_train)"
   ]
  },
  {
   "cell_type": "code",
   "execution_count": 70,
   "metadata": {},
   "outputs": [
    {
     "name": "stdout",
     "output_type": "stream",
     "text": [
      "RandomForestClassifier(criterion='entropy', max_depth=25, min_samples_split=5,\n",
      "                       n_jobs=-1)\n",
      "{'criterion': 'entropy', 'max_depth': 25, 'min_samples_split': 5, 'n_estimators': 100}\n",
      "0.25719839176331566\n"
     ]
    }
   ],
   "source": [
    "# Best model hyperparameters and score\n",
    "print(gs_rf.best_estimator_)\n",
    "print(gs_rf.best_params_)\n",
    "print(gs_rf.best_score_)"
   ]
  },
  {
   "cell_type": "code",
   "execution_count": 71,
   "metadata": {},
   "outputs": [
    {
     "data": {
      "text/plain": [
       "RandomForestClassifier(criterion='entropy', max_depth=25, min_samples_split=5,\n",
       "                       n_jobs=-1)"
      ]
     },
     "execution_count": 71,
     "metadata": {},
     "output_type": "execute_result"
    }
   ],
   "source": [
    "# Using best estimator found by GridSearchCV\n",
    "rf = gs_rf.best_estimator_\n",
    "rf.fit(X_train, y_train)"
   ]
  },
  {
   "cell_type": "code",
   "execution_count": 72,
   "metadata": {},
   "outputs": [],
   "source": [
    "y_pred = rf.predict(X_test)"
   ]
  },
  {
   "cell_type": "code",
   "execution_count": 73,
   "metadata": {
    "scrolled": false
   },
   "outputs": [
    {
     "name": "stdout",
     "output_type": "stream",
     "text": [
      "              precision    recall  f1-score   support\n",
      "\n",
      "           1       0.00      0.00      0.00         7\n",
      "           2       0.31      0.35      0.33        23\n",
      "           3       0.39      0.56      0.46        32\n",
      "           4       0.50      0.20      0.29        15\n",
      "           5       0.00      0.00      0.00         1\n",
      "\n",
      "    accuracy                           0.37        78\n",
      "   macro avg       0.24      0.22      0.21        78\n",
      "weighted avg       0.35      0.37      0.34        78\n",
      "\n"
     ]
    },
    {
     "name": "stderr",
     "output_type": "stream",
     "text": [
      "C:\\Users\\xiong\\anaconda3\\lib\\site-packages\\sklearn\\metrics\\_classification.py:1221: UndefinedMetricWarning: Precision and F-score are ill-defined and being set to 0.0 in labels with no predicted samples. Use `zero_division` parameter to control this behavior.\n",
      "  _warn_prf(average, modifier, msg_start, len(result))\n"
     ]
    }
   ],
   "source": [
    "print(classification_report(y_test, y_pred))"
   ]
  },
  {
   "cell_type": "code",
   "execution_count": 74,
   "metadata": {},
   "outputs": [
    {
     "name": "stderr",
     "output_type": "stream",
     "text": [
      "C:\\Users\\xiong\\anaconda3\\lib\\site-packages\\sklearn\\metrics\\_classification.py:1221: UndefinedMetricWarning: Precision is ill-defined and being set to 0.0 in labels with no predicted samples. Use `zero_division` parameter to control this behavior.\n",
      "  _warn_prf(average, modifier, msg_start, len(result))\n"
     ]
    }
   ],
   "source": [
    "models.append('Random Forest 2')\n",
    "precision_list.append(precision_score(y_test, y_pred, average='macro'))\n",
    "recall_list.append(recall_score(y_test, y_pred, average='macro'))\n",
    "f1_score_list.append(f1_score(y_test, y_pred, average='macro'))\n",
    "training_acc_list.append(accuracy_score(y_train, rf.predict(X_train_scaled)))\n",
    "testing_acc_list.append(accuracy_score(y_test, y_pred))"
   ]
  },
  {
   "cell_type": "code",
   "execution_count": 75,
   "metadata": {},
   "outputs": [
    {
     "data": {
      "image/png": "[encoded data removed]",
      "text/plain": [
       "<Figure size 648x504 with 2 Axes>"
      ]
     },
     "metadata": {},
     "output_type": "display_data"
    }
   ],
   "source": [
    "# Plot the confusion matrix using Seaborn library\n",
    "plt.figure(figsize=(9,7))\n",
    "_ = sns.heatmap(confusion_matrix(y_test, y_pred), \n",
    "                annot=True, annot_kws={\"size\": 18},\n",
    "                cmap=plt.cm.Blues,\n",
    "                xticklabels=class_names, yticklabels=class_names)\n",
    "_ = plt.ylabel('True Label', fontweight='bold')\n",
    "_ = plt.xlabel('Predicted Label', fontweight='bold')"
   ]
  },
  {
   "cell_type": "code",
   "execution_count": 76,
   "metadata": {},
   "outputs": [],
   "source": [
    "model_metrics = pd.DataFrame(zip(models, training_acc_list, testing_acc_list,\n",
    "                                 precision_list, recall_list, f1_score_list), \n",
    "                             columns=['Model', 'Training Acc', 'Testing Acc', 'Precision', 'Recall', 'F1 Score'])"
   ]
  },
  {
   "cell_type": "code",
   "execution_count": 77,
   "metadata": {},
   "outputs": [
    {
     "data": {
      "text/html": [
       "<div>\n",
       "<style scoped>\n",
       "    .dataframe tbody tr th:only-of-type {\n",
       "        vertical-align: middle;\n",
       "    }\n",
       "\n",
       "    .dataframe tbody tr th {\n",
       "        vertical-align: top;\n",
       "    }\n",
       "\n",
       "    .dataframe thead th {\n",
       "        text-align: right;\n",
       "    }\n",
       "</style>\n",
       "<table border=\"1\" class=\"dataframe\">\n",
       "  <thead>\n",
       "    <tr style=\"text-align: right;\">\n",
       "      <th></th>\n",
       "      <th>Model</th>\n",
       "      <th>Training Acc</th>\n",
       "      <th>Testing Acc</th>\n",
       "      <th>Precision</th>\n",
       "      <th>Recall</th>\n",
       "      <th>F1 Score</th>\n",
       "    </tr>\n",
       "  </thead>\n",
       "  <tbody>\n",
       "    <tr>\n",
       "      <th>0</th>\n",
       "      <td>Logistic Regression</td>\n",
       "      <td>0.490385</td>\n",
       "      <td>0.474359</td>\n",
       "      <td>0.497381</td>\n",
       "      <td>0.443333</td>\n",
       "      <td>0.437842</td>\n",
       "    </tr>\n",
       "    <tr>\n",
       "      <th>1</th>\n",
       "      <td>Multilevel Perceptron</td>\n",
       "      <td>1.000000</td>\n",
       "      <td>0.397436</td>\n",
       "      <td>0.551188</td>\n",
       "      <td>0.356667</td>\n",
       "      <td>0.400145</td>\n",
       "    </tr>\n",
       "    <tr>\n",
       "      <th>2</th>\n",
       "      <td>Random Forest 1</td>\n",
       "      <td>0.294872</td>\n",
       "      <td>0.384615</td>\n",
       "      <td>0.250801</td>\n",
       "      <td>0.235652</td>\n",
       "      <td>0.227284</td>\n",
       "    </tr>\n",
       "    <tr>\n",
       "      <th>3</th>\n",
       "      <td>Random Forest 2</td>\n",
       "      <td>0.282051</td>\n",
       "      <td>0.371795</td>\n",
       "      <td>0.239799</td>\n",
       "      <td>0.222065</td>\n",
       "      <td>0.214757</td>\n",
       "    </tr>\n",
       "  </tbody>\n",
       "</table>\n",
       "</div>"
      ],
      "text/plain": [
       "                   Model  Training Acc  Testing Acc  Precision    Recall  \\\n",
       "0    Logistic Regression      0.490385     0.474359   0.497381  0.443333   \n",
       "1  Multilevel Perceptron      1.000000     0.397436   0.551188  0.356667   \n",
       "2        Random Forest 1      0.294872     0.384615   0.250801  0.235652   \n",
       "3        Random Forest 2      0.282051     0.371795   0.239799  0.222065   \n",
       "\n",
       "   F1 Score  \n",
       "0  0.437842  \n",
       "1  0.400145  \n",
       "2  0.227284  \n",
       "3  0.214757  "
      ]
     },
     "execution_count": 77,
     "metadata": {},
     "output_type": "execute_result"
    }
   ],
   "source": [
    "model_metrics.sort_values(by='F1 Score', ascending=False)"
   ]
  }
 ],
 "metadata": {
  "kernelspec": {
   "display_name": "Python 3",
   "language": "python",
   "name": "python3"
  },
  "language_info": {
   "codemirror_mode": {
    "name": "ipython",
    "version": 3
   },
   "file_extension": ".py",
   "mimetype": "text/x-python",
   "name": "python",
   "nbconvert_exporter": "python",
   "pygments_lexer": "ipython3",
   "version": "3.8.5"
  }
 },
 "nbformat": 4,
 "nbformat_minor": 4
}
